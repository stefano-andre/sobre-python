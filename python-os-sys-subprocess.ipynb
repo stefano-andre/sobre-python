{
 "cells": [
  {
   "cell_type": "markdown",
   "id": "478919d5",
   "metadata": {},
   "source": [
    "# Módulos del sistema"
   ]
  },
  {
   "cell_type": "markdown",
   "id": "411ffa6f",
   "metadata": {},
   "source": [
    "En estos apuntes se mostrarán usos comunes de los módulos que permiten interactuar con el sistema operativo, para manejo de archivos y administración de procesos."
   ]
  },
  {
   "cell_type": "markdown",
   "id": "55d7632c",
   "metadata": {},
   "source": [
    "## Módulo `os`"
   ]
  },
  {
   "cell_type": "code",
   "execution_count": 1,
   "id": "e595868d",
   "metadata": {},
   "outputs": [],
   "source": [
    "import os"
   ]
  },
  {
   "cell_type": "markdown",
   "id": "97411dcb",
   "metadata": {},
   "source": [
    "Sistema operativo"
   ]
  },
  {
   "cell_type": "code",
   "execution_count": 2,
   "id": "15091439",
   "metadata": {},
   "outputs": [
    {
     "data": {
      "text/plain": [
       "'posix'"
      ]
     },
     "execution_count": 2,
     "metadata": {},
     "output_type": "execute_result"
    }
   ],
   "source": [
    "os.name"
   ]
  },
  {
   "cell_type": "markdown",
   "id": "37472459",
   "metadata": {},
   "source": [
    "Para mostrar el directorio de trabajo"
   ]
  },
  {
   "cell_type": "code",
   "execution_count": 3,
   "id": "25405fdd",
   "metadata": {},
   "outputs": [
    {
     "data": {
      "text/plain": [
       "'/home/stefanos/Documents/sobre-python'"
      ]
     },
     "execution_count": 3,
     "metadata": {},
     "output_type": "execute_result"
    }
   ],
   "source": [
    "os.getcwd()"
   ]
  },
  {
   "cell_type": "code",
   "execution_count": 4,
   "id": "2bc64e9e",
   "metadata": {},
   "outputs": [],
   "source": [
    "curdir = os.getcwd()"
   ]
  },
  {
   "cell_type": "markdown",
   "id": "16ad4b59",
   "metadata": {},
   "source": [
    "Para moverse del directorio actual a un nivel anterior"
   ]
  },
  {
   "cell_type": "code",
   "execution_count": 5,
   "id": "f2896008",
   "metadata": {},
   "outputs": [],
   "source": [
    "os.chdir('..')"
   ]
  },
  {
   "cell_type": "markdown",
   "id": "14fe203a",
   "metadata": {},
   "source": [
    "Para ver la nueva ubicación"
   ]
  },
  {
   "cell_type": "code",
   "execution_count": 6,
   "id": "936aef58",
   "metadata": {},
   "outputs": [
    {
     "data": {
      "text/plain": [
       "'/home/stefanos/Documents'"
      ]
     },
     "execution_count": 6,
     "metadata": {},
     "output_type": "execute_result"
    }
   ],
   "source": [
    "os.getcwd()"
   ]
  },
  {
   "cell_type": "markdown",
   "id": "b74a7cc0",
   "metadata": {},
   "source": [
    "Mejor hay que volver al directorio original"
   ]
  },
  {
   "cell_type": "code",
   "execution_count": 7,
   "id": "0de9573d",
   "metadata": {},
   "outputs": [],
   "source": [
    "os.chdir(curdir)"
   ]
  },
  {
   "cell_type": "code",
   "execution_count": 8,
   "id": "d52aab2e",
   "metadata": {},
   "outputs": [
    {
     "data": {
      "text/plain": [
       "'/home/stefanos/Documents/sobre-python'"
      ]
     },
     "execution_count": 8,
     "metadata": {},
     "output_type": "execute_result"
    }
   ],
   "source": [
    "os.getcwd()"
   ]
  },
  {
   "cell_type": "markdown",
   "id": "8036e7c1",
   "metadata": {},
   "source": [
    "Para crear un directorio"
   ]
  },
  {
   "cell_type": "code",
   "execution_count": 9,
   "id": "8ef6bfee",
   "metadata": {},
   "outputs": [],
   "source": [
    "os.mkdir('DirectorioCreado')"
   ]
  },
  {
   "cell_type": "markdown",
   "id": "316299e5",
   "metadata": {},
   "source": [
    "También se pueden indicar los permisos que se quieren dar al directorio"
   ]
  },
  {
   "cell_type": "code",
   "execution_count": 10,
   "id": "a3b444a9",
   "metadata": {},
   "outputs": [],
   "source": [
    "os.mkdir('DirectorioCreadoConPermisos',0o770)"
   ]
  },
  {
   "cell_type": "markdown",
   "id": "51f3675d",
   "metadata": {},
   "source": [
    "Para saber si un directorio existe"
   ]
  },
  {
   "cell_type": "code",
   "execution_count": 11,
   "id": "c4f621f7",
   "metadata": {},
   "outputs": [
    {
     "data": {
      "text/plain": [
       "True"
      ]
     },
     "execution_count": 11,
     "metadata": {},
     "output_type": "execute_result"
    }
   ],
   "source": [
    "os.path.exists('DirectorioCreado')"
   ]
  },
  {
   "cell_type": "code",
   "execution_count": 12,
   "id": "2da6e76e",
   "metadata": {},
   "outputs": [
    {
     "data": {
      "text/plain": [
       "True"
      ]
     },
     "execution_count": 12,
     "metadata": {},
     "output_type": "execute_result"
    }
   ],
   "source": [
    "os.path.exists('DirectorioCreadoConPermisos')"
   ]
  },
  {
   "cell_type": "markdown",
   "id": "44cdae6c",
   "metadata": {},
   "source": [
    "Para ver los permisos"
   ]
  },
  {
   "cell_type": "code",
   "execution_count": 13,
   "id": "ded13a02",
   "metadata": {},
   "outputs": [
    {
     "data": {
      "text/plain": [
       "'0o770'"
      ]
     },
     "execution_count": 13,
     "metadata": {},
     "output_type": "execute_result"
    }
   ],
   "source": [
    "status = os.stat('DirectorioCreadoConPermisos')\n",
    "oct(status.st_mode & 0o777)"
   ]
  },
  {
   "cell_type": "markdown",
   "id": "2d43a6a1",
   "metadata": {},
   "source": [
    "Para eliminar un directorio sin archivos en su interior"
   ]
  },
  {
   "cell_type": "code",
   "execution_count": 14,
   "id": "d172e5fb",
   "metadata": {},
   "outputs": [],
   "source": [
    "os.rmdir('DirectorioCreado')"
   ]
  },
  {
   "cell_type": "code",
   "execution_count": 15,
   "id": "daba992e",
   "metadata": {},
   "outputs": [],
   "source": [
    "os.rmdir('DirectorioCreadoConPermisos')"
   ]
  },
  {
   "cell_type": "markdown",
   "id": "afe202a8",
   "metadata": {},
   "source": [
    "Para crear directorios anidados"
   ]
  },
  {
   "cell_type": "code",
   "execution_count": 16,
   "id": "eb19b1eb",
   "metadata": {},
   "outputs": [],
   "source": [
    "os.makedirs('DirectorioCreado/DirectorioAnidadoL1/DirectorioAnidadoL2')"
   ]
  },
  {
   "cell_type": "markdown",
   "id": "23112d79",
   "metadata": {},
   "source": [
    "Para mostrar los archivos del directorio actual"
   ]
  },
  {
   "cell_type": "code",
   "execution_count": 17,
   "id": "d6a65c03",
   "metadata": {},
   "outputs": [
    {
     "data": {
      "text/plain": [
       "['perfil-pthreads.ipynb',\n",
       " 'Pipfile',\n",
       " '.ipynb_checkpoints',\n",
       " 'Pipfile.lock',\n",
       " '.gitignore',\n",
       " 'efectos-localidad-matriz-matriz.ipynb',\n",
       " 'python-general.ipynb',\n",
       " 'zoo.csv',\n",
       " 'README.md',\n",
       " 'potencias-exponente-entero.ipynb',\n",
       " 'algoritmos-por-bloques.ipynb',\n",
       " 'python-os-sys-subprocess.ipynb',\n",
       " 'utilities.py',\n",
       " 'python-timing.ipynb',\n",
       " 'DirectorioCreado',\n",
       " 'LICENSE',\n",
       " '.git',\n",
       " 'matplotlib-general.ipynb',\n",
       " 'pandas-general.ipynb',\n",
       " 'euler-nbprob.ipynb',\n",
       " 'gcc-optis.ipynb',\n",
       " 'factorial.ipynb',\n",
       " 'ctypes-structure.ipynb',\n",
       " 'archivo.txt',\n",
       " 'efectos-localidad.ipynb',\n",
       " 'perfil-mpi.ipynb',\n",
       " 'python-multiprocessing.ipynb',\n",
       " 'numpy-general.ipynb',\n",
       " 'python-ctypes.ipynb']"
      ]
     },
     "execution_count": 17,
     "metadata": {},
     "output_type": "execute_result"
    }
   ],
   "source": [
    "os.listdir()"
   ]
  },
  {
   "cell_type": "markdown",
   "id": "ee72964c",
   "metadata": {},
   "source": [
    "Para mostrar los archivos del directorio `home`"
   ]
  },
  {
   "cell_type": "code",
   "execution_count": 18,
   "id": "b11625a7",
   "metadata": {},
   "outputs": [
    {
     "data": {
      "text/plain": [
       "['stefanos']"
      ]
     },
     "execution_count": 18,
     "metadata": {},
     "output_type": "execute_result"
    }
   ],
   "source": [
    "os.listdir('/home')"
   ]
  },
  {
   "cell_type": "markdown",
   "id": "6bf9305b",
   "metadata": {},
   "source": [
    "Para mostrar los archivos del directorio `DirectorioCreado`"
   ]
  },
  {
   "cell_type": "code",
   "execution_count": 19,
   "id": "dd6b0e11",
   "metadata": {},
   "outputs": [
    {
     "data": {
      "text/plain": [
       "['DirectorioAnidadoL1']"
      ]
     },
     "execution_count": 19,
     "metadata": {},
     "output_type": "execute_result"
    }
   ],
   "source": [
    "os.listdir('./DirectorioCreado')"
   ]
  },
  {
   "cell_type": "markdown",
   "id": "89adfbc0",
   "metadata": {},
   "source": [
    "Para mostrar los archivos del directorio `DirectorioAnidadoL1`"
   ]
  },
  {
   "cell_type": "code",
   "execution_count": 20,
   "id": "166efdd3",
   "metadata": {},
   "outputs": [
    {
     "data": {
      "text/plain": [
       "['DirectorioAnidadoL2']"
      ]
     },
     "execution_count": 20,
     "metadata": {},
     "output_type": "execute_result"
    }
   ],
   "source": [
    "os.listdir('./DirectorioCreado/DirectorioAnidadoL1')"
   ]
  },
  {
   "cell_type": "markdown",
   "id": "478f2c24",
   "metadata": {},
   "source": [
    "Para eliminar un directorio con archivos en su interior, primero eliminas los archivos en el interior"
   ]
  },
  {
   "cell_type": "code",
   "execution_count": 21,
   "id": "a2b97d59",
   "metadata": {},
   "outputs": [],
   "source": [
    "for root, dirs, files in os.walk(os.path.join(curdir,'DirectorioCreado'), topdown=False):\n",
    "    for name in files:\n",
    "        os.remove(os.path.join(root, name))\n",
    "    for name in dirs:\n",
    "        os.rmdir(os.path.join(root, name))"
   ]
  },
  {
   "cell_type": "markdown",
   "id": "ac9af107",
   "metadata": {},
   "source": [
    "Luego eliminas el directorio"
   ]
  },
  {
   "cell_type": "code",
   "execution_count": 22,
   "id": "54f2d843",
   "metadata": {},
   "outputs": [],
   "source": [
    "os.rmdir('DirectorioCreado')"
   ]
  },
  {
   "cell_type": "markdown",
   "id": "2d3c62e0",
   "metadata": {},
   "source": [
    "Validar que ya no existe"
   ]
  },
  {
   "cell_type": "code",
   "execution_count": 23,
   "id": "fe4e1e45",
   "metadata": {},
   "outputs": [
    {
     "data": {
      "text/plain": [
       "False"
      ]
     },
     "execution_count": 23,
     "metadata": {},
     "output_type": "execute_result"
    }
   ],
   "source": [
    "os.path.exists('DirectorioCreado')"
   ]
  },
  {
   "cell_type": "markdown",
   "id": "9f6941b4",
   "metadata": {},
   "source": [
    "Crear un archivo de prueba para mostrar como cambiar permisos"
   ]
  },
  {
   "cell_type": "code",
   "execution_count": 24,
   "id": "2e83a43c",
   "metadata": {},
   "outputs": [],
   "source": [
    "! touch archivo-prueba.txt"
   ]
  },
  {
   "cell_type": "markdown",
   "id": "65e7519d",
   "metadata": {},
   "source": [
    "Cambiar permisos del archivo"
   ]
  },
  {
   "cell_type": "code",
   "execution_count": 25,
   "id": "ff1266c9",
   "metadata": {},
   "outputs": [],
   "source": [
    "os.chmod('archivo-prueba.txt', 0o777)"
   ]
  },
  {
   "cell_type": "markdown",
   "id": "7449e169",
   "metadata": {},
   "source": [
    "Ver los nuevos permisos"
   ]
  },
  {
   "cell_type": "code",
   "execution_count": 26,
   "id": "4a57ce4d",
   "metadata": {},
   "outputs": [
    {
     "data": {
      "text/plain": [
       "'0o777'"
      ]
     },
     "execution_count": 26,
     "metadata": {},
     "output_type": "execute_result"
    }
   ],
   "source": [
    "status = os.stat('archivo-prueba.txt')\n",
    "oct(status.st_mode & 0o777)"
   ]
  },
  {
   "cell_type": "markdown",
   "id": "8a30958e",
   "metadata": {},
   "source": [
    "Borrar el archivo de prueba"
   ]
  },
  {
   "cell_type": "code",
   "execution_count": 27,
   "id": "be465368",
   "metadata": {},
   "outputs": [],
   "source": [
    "os.remove('archivo-prueba.txt')"
   ]
  },
  {
   "cell_type": "code",
   "execution_count": 28,
   "id": "aadfed87",
   "metadata": {},
   "outputs": [
    {
     "data": {
      "text/plain": [
       "False"
      ]
     },
     "execution_count": 28,
     "metadata": {},
     "output_type": "execute_result"
    }
   ],
   "source": [
    "os.path.exists('archivo-prueba.txt')"
   ]
  },
  {
   "cell_type": "markdown",
   "id": "682d8c09",
   "metadata": {},
   "source": [
    "Crear un archivo de prueba"
   ]
  },
  {
   "cell_type": "code",
   "execution_count": 29,
   "id": "d6690b32",
   "metadata": {},
   "outputs": [],
   "source": [
    "! touch prueba.txt"
   ]
  },
  {
   "cell_type": "markdown",
   "id": "610d3343",
   "metadata": {},
   "source": [
    "Ver la lista de archivos"
   ]
  },
  {
   "cell_type": "code",
   "execution_count": 30,
   "id": "14c2eb9a",
   "metadata": {},
   "outputs": [
    {
     "data": {
      "text/plain": [
       "True"
      ]
     },
     "execution_count": 30,
     "metadata": {},
     "output_type": "execute_result"
    }
   ],
   "source": [
    "os.path.exists('prueba.txt')"
   ]
  },
  {
   "cell_type": "code",
   "execution_count": 31,
   "id": "d4ac1207",
   "metadata": {},
   "outputs": [],
   "source": [
    "os.rename('prueba.txt', 'meh.txt')"
   ]
  },
  {
   "cell_type": "markdown",
   "id": "c1cb1c85",
   "metadata": {},
   "source": [
    "Validar que el archivo con nombre cambiado existe"
   ]
  },
  {
   "cell_type": "code",
   "execution_count": 32,
   "id": "6a07a326",
   "metadata": {},
   "outputs": [
    {
     "data": {
      "text/plain": [
       "True"
      ]
     },
     "execution_count": 32,
     "metadata": {},
     "output_type": "execute_result"
    }
   ],
   "source": [
    "os.path.exists('meh.txt')"
   ]
  },
  {
   "cell_type": "markdown",
   "id": "a4aaa6ae",
   "metadata": {},
   "source": [
    "Eliminar un archivo y volver a ver los archivos del directorio"
   ]
  },
  {
   "cell_type": "code",
   "execution_count": 33,
   "id": "43fa436d",
   "metadata": {},
   "outputs": [],
   "source": [
    "os.remove('meh.txt')"
   ]
  },
  {
   "cell_type": "markdown",
   "id": "2dc5ad51",
   "metadata": {},
   "source": [
    "Variables de entorno"
   ]
  },
  {
   "cell_type": "code",
   "execution_count": 34,
   "id": "0e3ed912",
   "metadata": {},
   "outputs": [
    {
     "name": "stdout",
     "output_type": "stream",
     "text": [
      "SHELL\n",
      "COLORTERM\n",
      "PYTHONUNBUFFERED\n",
      "TERM_PROGRAM_VERSION\n",
      "PIPENV_ACTIVE\n",
      "LC_ADDRESS\n",
      "LC_NAME\n",
      "LC_MONETARY\n",
      "PWD\n",
      "LOGNAME\n",
      "XDG_SESSION_TYPE\n",
      "VSCODE_GIT_ASKPASS_NODE\n",
      "MOTD_SHOWN\n",
      "PIP_PYTHON_PATH\n",
      "HOME\n",
      "LANG\n",
      "LC_PAPER\n",
      "LS_COLORS\n",
      "VIRTUAL_ENV\n",
      "GIT_ASKPASS\n",
      "SSH_CONNECTION\n",
      "VSCODE_GIT_ASKPASS_EXTRA_ARGS\n",
      "LESSCLOSE\n",
      "XDG_SESSION_CLASS\n",
      "LC_IDENTIFICATION\n",
      "TERM\n",
      "LESSOPEN\n",
      "USER\n",
      "VSCODE_GIT_IPC_HANDLE\n",
      "SHLVL\n",
      "LC_TELEPHONE\n",
      "LC_MEASUREMENT\n",
      "XDG_SESSION_ID\n",
      "PYTHONDONTWRITEBYTECODE\n",
      "XDG_RUNTIME_DIR\n",
      "PS1\n",
      "SSH_CLIENT\n",
      "LC_TIME\n",
      "VSCODE_GIT_ASKPASS_MAIN\n",
      "XDG_DATA_DIRS\n",
      "BROWSER\n",
      "PATH\n",
      "DBUS_SESSION_BUS_ADDRESS\n",
      "LC_NUMERIC\n",
      "OLDPWD\n",
      "TERM_PROGRAM\n",
      "VSCODE_IPC_HOOK_CLI\n",
      "_\n",
      "JPY_PARENT_PID\n",
      "CLICOLOR\n",
      "PAGER\n",
      "GIT_PAGER\n",
      "MPLBACKEND\n"
     ]
    }
   ],
   "source": [
    "for envar in os.environ:\n",
    "    print(envar)"
   ]
  },
  {
   "cell_type": "markdown",
   "id": "bb9d7947",
   "metadata": {},
   "source": [
    "El `shell` que se usa"
   ]
  },
  {
   "cell_type": "code",
   "execution_count": 35,
   "id": "a8715cf3",
   "metadata": {},
   "outputs": [
    {
     "data": {
      "text/plain": [
       "'/bin/bash'"
      ]
     },
     "execution_count": 35,
     "metadata": {},
     "output_type": "execute_result"
    }
   ],
   "source": [
    "os.environ['SHELL'] "
   ]
  },
  {
   "cell_type": "markdown",
   "id": "01e8cf53",
   "metadata": {},
   "source": [
    "La ruta `home`"
   ]
  },
  {
   "cell_type": "code",
   "execution_count": 36,
   "id": "9dd2051a",
   "metadata": {},
   "outputs": [
    {
     "data": {
      "text/plain": [
       "'/home/stefanos'"
      ]
     },
     "execution_count": 36,
     "metadata": {},
     "output_type": "execute_result"
    }
   ],
   "source": [
    "os.environ['HOME'] "
   ]
  },
  {
   "cell_type": "markdown",
   "id": "cff6d1f4",
   "metadata": {},
   "source": [
    "Ruta absoluta del directorio actual"
   ]
  },
  {
   "cell_type": "code",
   "execution_count": 37,
   "id": "61ed9239",
   "metadata": {},
   "outputs": [
    {
     "data": {
      "text/plain": [
       "'/home/stefanos/Documents/sobre-python'"
      ]
     },
     "execution_count": 37,
     "metadata": {},
     "output_type": "execute_result"
    }
   ],
   "source": [
    "os.path.abspath('.')"
   ]
  },
  {
   "cell_type": "markdown",
   "id": "777034aa",
   "metadata": {},
   "source": [
    "Ruta absoluta del directorio `Music`"
   ]
  },
  {
   "cell_type": "code",
   "execution_count": 38,
   "id": "eb30f6ae",
   "metadata": {},
   "outputs": [
    {
     "data": {
      "text/plain": [
       "'/home/stefanos/Music'"
      ]
     },
     "execution_count": 38,
     "metadata": {},
     "output_type": "execute_result"
    }
   ],
   "source": [
    "os.path.abspath('../../Music')"
   ]
  },
  {
   "cell_type": "markdown",
   "id": "cfe1db31",
   "metadata": {},
   "source": [
    "Para saber si una ruta es un archivo"
   ]
  },
  {
   "cell_type": "code",
   "execution_count": 39,
   "id": "d4293031",
   "metadata": {},
   "outputs": [
    {
     "data": {
      "text/plain": [
       "False"
      ]
     },
     "execution_count": 39,
     "metadata": {},
     "output_type": "execute_result"
    }
   ],
   "source": [
    "os.path.isfile('../../Music')"
   ]
  },
  {
   "cell_type": "markdown",
   "id": "b24732be",
   "metadata": {},
   "source": [
    "Para saber si una ruta es un directorio"
   ]
  },
  {
   "cell_type": "code",
   "execution_count": 40,
   "id": "e59958d5",
   "metadata": {},
   "outputs": [
    {
     "data": {
      "text/plain": [
       "True"
      ]
     },
     "execution_count": 40,
     "metadata": {},
     "output_type": "execute_result"
    }
   ],
   "source": [
    "os.path.isdir('../../Music')"
   ]
  },
  {
   "cell_type": "markdown",
   "id": "87b74d3a",
   "metadata": {},
   "source": [
    "## Módulo `sys`"
   ]
  },
  {
   "cell_type": "markdown",
   "id": "ee7544c6",
   "metadata": {},
   "source": [
    "## Módulo `subprocess`"
   ]
  }
 ],
 "metadata": {
  "kernelspec": {
   "display_name": "Python 3 (ipykernel)",
   "language": "python",
   "name": "python3"
  },
  "language_info": {
   "codemirror_mode": {
    "name": "ipython",
    "version": 3
   },
   "file_extension": ".py",
   "mimetype": "text/x-python",
   "name": "python",
   "nbconvert_exporter": "python",
   "pygments_lexer": "ipython3",
   "version": "3.8.10"
  }
 },
 "nbformat": 4,
 "nbformat_minor": 5
}
