{
 "cells": [
  {
   "cell_type": "markdown",
   "id": "1fd692e5",
   "metadata": {},
   "source": [
    "# Módulo Multiprocessing"
   ]
  },
  {
   "cell_type": "markdown",
   "id": "11450251",
   "metadata": {},
   "source": [
    "En estos apuntes se presentará muy brevemente como ejecutar código en paralelo empleando múltiples procesos."
   ]
  },
  {
   "cell_type": "code",
   "execution_count": 1,
   "id": "5c5559cd",
   "metadata": {},
   "outputs": [],
   "source": [
    "from time import sleep, time"
   ]
  },
  {
   "cell_type": "code",
   "execution_count": 2,
   "id": "a1d84c35",
   "metadata": {},
   "outputs": [],
   "source": [
    "def delay(num):\n",
    "    sleep(num)\n",
    "    return num"
   ]
  },
  {
   "cell_type": "markdown",
   "id": "ee762f54",
   "metadata": {},
   "source": [
    "Estas celdas sirven para realizar mediciones al vuelo de tiempo. Con la opción `-r` se indican la cantidad de repeticiones y con `-n` el número de interaciones por repetición."
   ]
  },
  {
   "cell_type": "code",
   "execution_count": 3,
   "id": "ac4bfbd9",
   "metadata": {},
   "outputs": [
    {
     "name": "stdout",
     "output_type": "stream",
     "text": [
      "1 s ± 0 ns per loop (mean ± std. dev. of 1 run, 10 loops each)\n"
     ]
    }
   ],
   "source": [
    "%timeit -r 1 -n 10 delay(1)"
   ]
  },
  {
   "cell_type": "code",
   "execution_count": 4,
   "id": "c64c9750",
   "metadata": {},
   "outputs": [
    {
     "data": {
      "text/plain": [
       "2.0036094188690186"
      ]
     },
     "execution_count": 4,
     "metadata": {},
     "output_type": "execute_result"
    }
   ],
   "source": [
    "tic = time()\n",
    "delay(1)\n",
    "delay(1)\n",
    "toc = time()\n",
    "toc - tic"
   ]
  },
  {
   "cell_type": "code",
   "execution_count": 5,
   "id": "3f61d289",
   "metadata": {},
   "outputs": [],
   "source": [
    "from multiprocessing import Process"
   ]
  },
  {
   "cell_type": "markdown",
   "id": "7dc13718",
   "metadata": {},
   "source": [
    "Para crear un proceso:"
   ]
  },
  {
   "cell_type": "code",
   "execution_count": 6,
   "id": "4d8df87d",
   "metadata": {},
   "outputs": [],
   "source": [
    "p1 = Process(target=delay,args=(1,))\n",
    "p2 = Process(target=delay,args=(1,))"
   ]
  },
  {
   "cell_type": "markdown",
   "id": "50d9fd35",
   "metadata": {},
   "source": [
    "Los procesos han sido creados, pero no han sido ejecutados."
   ]
  },
  {
   "cell_type": "code",
   "execution_count": 7,
   "id": "bf80f136",
   "metadata": {},
   "outputs": [],
   "source": [
    "p1.start()\n",
    "p2.start()"
   ]
  },
  {
   "cell_type": "markdown",
   "id": "9540c167",
   "metadata": {},
   "source": [
    "Para esperar a que los procesos terminen"
   ]
  },
  {
   "cell_type": "code",
   "execution_count": 8,
   "id": "b6c8294c",
   "metadata": {},
   "outputs": [],
   "source": [
    "p1.join()\n",
    "p2.join()"
   ]
  },
  {
   "cell_type": "markdown",
   "id": "411895b8",
   "metadata": {},
   "source": [
    "Si se junta todo en una celda se puede observar el tiempo total"
   ]
  },
  {
   "cell_type": "code",
   "execution_count": 9,
   "id": "6e598290",
   "metadata": {},
   "outputs": [
    {
     "data": {
      "text/plain": [
       "5.018382787704468"
      ]
     },
     "execution_count": 9,
     "metadata": {},
     "output_type": "execute_result"
    }
   ],
   "source": [
    "tic = time()\n",
    "p1 = Process(target=delay,args=(5,))\n",
    "p2 = Process(target=delay,args=(5,))\n",
    "p1.start()\n",
    "p2.start()\n",
    "p1.join()\n",
    "p2.join()\n",
    "toc = time()\n",
    "toc - tic"
   ]
  },
  {
   "cell_type": "markdown",
   "id": "46acee6c",
   "metadata": {},
   "source": [
    "Ejecutar los dos procesos en simultáneo toma una cantidad cercana a 5 segundos, y ejecutar las funciones en serie hubiera tomado 10 segundos. Sin embargo, el código es poco escalable. ¿Qué pasaría si se quisiera emplear más de dos procesos en simultáneo? "
   ]
  },
  {
   "cell_type": "code",
   "execution_count": 10,
   "id": "4d0e8aef",
   "metadata": {},
   "outputs": [
    {
     "data": {
      "text/plain": [
       "8.05596399307251"
      ]
     },
     "execution_count": 10,
     "metadata": {},
     "output_type": "execute_result"
    }
   ],
   "source": [
    "# lista de procesos\n",
    "procs = []\n",
    "# cantidad de procesos\n",
    "cp = 4\n",
    "# empezar a medir el tiempo\n",
    "tic = time()\n",
    "# crear una lista de procesos luego de iniciarlos\n",
    "for _ in range(cp):\n",
    "    p = Process(target=delay,args=(8,))\n",
    "    p.start()\n",
    "    procs.append(p)\n",
    "# esperar a que terminen los procesos\n",
    "for p in procs:\n",
    "    p.join()\n",
    "# terminar de medir el tiempo\n",
    "toc = time()\n",
    "# mostrar tiempo transcurrido\n",
    "toc - tic"
   ]
  },
  {
   "cell_type": "markdown",
   "id": "8a34f9a3",
   "metadata": {},
   "source": [
    "Ahora se puede definir una versión multriproceso para la función `delay`"
   ]
  },
  {
   "cell_type": "code",
   "execution_count": 11,
   "id": "c53ec0a3",
   "metadata": {},
   "outputs": [],
   "source": [
    "def mpdelay(num,cp):\n",
    "    procs = []\n",
    "    \n",
    "    for _ in range(cp):\n",
    "        p = Process(target=delay,args=(num,))\n",
    "        p.start()\n",
    "        procs.append(p)\n",
    "\n",
    "    for p in procs:\n",
    "        p.join()\n",
    "        \n",
    "    return num"
   ]
  },
  {
   "cell_type": "code",
   "execution_count": 12,
   "id": "777f38e3",
   "metadata": {},
   "outputs": [
    {
     "name": "stdout",
     "output_type": "stream",
     "text": [
      "4.01 s ± 0 ns per loop (mean ± std. dev. of 1 run, 10 loops each)\n"
     ]
    }
   ],
   "source": [
    "%timeit -r 1 -n 10 mpdelay(4,2)"
   ]
  },
  {
   "cell_type": "code",
   "execution_count": 13,
   "id": "1f533ace",
   "metadata": {},
   "outputs": [
    {
     "name": "stdout",
     "output_type": "stream",
     "text": [
      "4.02 s ± 0 ns per loop (mean ± std. dev. of 1 run, 10 loops each)\n"
     ]
    }
   ],
   "source": [
    "%timeit -r 1 -n 10 mpdelay(4,4)"
   ]
  },
  {
   "cell_type": "code",
   "execution_count": 14,
   "id": "78fd77a8",
   "metadata": {},
   "outputs": [
    {
     "name": "stdout",
     "output_type": "stream",
     "text": [
      "4.02 s ± 0 ns per loop (mean ± std. dev. of 1 run, 10 loops each)\n"
     ]
    }
   ],
   "source": [
    "%timeit -r 1 -n 10 mpdelay(4,8)"
   ]
  },
  {
   "cell_type": "markdown",
   "id": "84d2b0d1",
   "metadata": {},
   "source": [
    "Note que se tuvo que recurrir al uso de bucles `for` para poder desplegar varios procesos; sin embargo, esto ya no es necesario pues, el módulo `multiprocessing` proporciona la clase `Pool` la cual crea un objeto que ofrece un medio para paralelizar la ejecución de una función a través de múltiples valores de entrada, distribuyendo los datos de entrada entre los procesos."
   ]
  },
  {
   "cell_type": "code",
   "execution_count": 15,
   "id": "7da5e281",
   "metadata": {},
   "outputs": [],
   "source": [
    "from multiprocessing import Pool"
   ]
  },
  {
   "cell_type": "markdown",
   "id": "4c26f18e",
   "metadata": {},
   "source": [
    "¿Cómo se podrían desplegar varios procesos que duren una cierta cantidad de segundos sin usar los bucles for? Para esto existe el método `map` de la clase `Pool`."
   ]
  },
  {
   "cell_type": "code",
   "execution_count": 16,
   "id": "55ade869",
   "metadata": {},
   "outputs": [],
   "source": [
    "def mpdelaymap(num,cp):\n",
    "    p = Pool(cp)\n",
    "    p.map(delay, [num]*cp)\n",
    "    return num"
   ]
  },
  {
   "cell_type": "code",
   "execution_count": 17,
   "id": "483f44ce",
   "metadata": {},
   "outputs": [
    {
     "name": "stdout",
     "output_type": "stream",
     "text": [
      "4.01 s ± 0 ns per loop (mean ± std. dev. of 1 run, 10 loops each)\n"
     ]
    }
   ],
   "source": [
    "%timeit -r 1 -n 10 mpdelaymap(4,2)"
   ]
  },
  {
   "cell_type": "code",
   "execution_count": 18,
   "id": "191871e2",
   "metadata": {},
   "outputs": [
    {
     "name": "stdout",
     "output_type": "stream",
     "text": [
      "4.01 s ± 0 ns per loop (mean ± std. dev. of 1 run, 10 loops each)\n"
     ]
    }
   ],
   "source": [
    "%timeit -r 1 -n 10 mpdelay(4,4)"
   ]
  },
  {
   "cell_type": "code",
   "execution_count": 19,
   "id": "7bb160d0",
   "metadata": {},
   "outputs": [
    {
     "name": "stdout",
     "output_type": "stream",
     "text": [
      "4.02 s ± 0 ns per loop (mean ± std. dev. of 1 run, 10 loops each)\n"
     ]
    }
   ],
   "source": [
    "%timeit -r 1 -n 10 mpdelay(4,8)"
   ]
  },
  {
   "cell_type": "markdown",
   "id": "63024522",
   "metadata": {},
   "source": [
    "Ahora, ¿qué pasaría si la función no recibe un solo argumento? Para estos casos, la clase `Pool` ofrece el método `starmap`."
   ]
  },
  {
   "cell_type": "code",
   "execution_count": 20,
   "id": "ae45519e",
   "metadata": {},
   "outputs": [],
   "source": [
    "def xydelay(x,y):\n",
    "    sleep(x)\n",
    "    sleep(y)"
   ]
  },
  {
   "cell_type": "markdown",
   "id": "7817b97e",
   "metadata": {},
   "source": [
    "Ahora hay que definir una versión que permita ejecutar multiples procesos con esta función"
   ]
  },
  {
   "cell_type": "code",
   "execution_count": 21,
   "id": "858d758e",
   "metadata": {},
   "outputs": [],
   "source": [
    "def mpxydelay(xs, ys, cp):\n",
    "    p = Pool(cp)\n",
    "    p.starmap(xydelay, zip(xs, ys))"
   ]
  },
  {
   "cell_type": "markdown",
   "id": "2ed029e6",
   "metadata": {},
   "source": [
    "Se realizarán pruebas con números aleatorios entre 1 y 5:"
   ]
  },
  {
   "cell_type": "code",
   "execution_count": 22,
   "id": "1a0e8426",
   "metadata": {},
   "outputs": [],
   "source": [
    "import random\n",
    "cp = 8"
   ]
  },
  {
   "cell_type": "code",
   "execution_count": 23,
   "id": "f89879e0",
   "metadata": {},
   "outputs": [
    {
     "data": {
      "text/plain": [
       "[2, 3, 5, 3, 5, 4, 5, 3]"
      ]
     },
     "execution_count": 23,
     "metadata": {},
     "output_type": "execute_result"
    }
   ],
   "source": [
    "xs = [random.randint(1,5) for _ in range(cp)]\n",
    "xs"
   ]
  },
  {
   "cell_type": "code",
   "execution_count": 24,
   "id": "b54b59b6",
   "metadata": {},
   "outputs": [
    {
     "data": {
      "text/plain": [
       "[2, 5, 4, 1, 2, 5, 3, 5]"
      ]
     },
     "execution_count": 24,
     "metadata": {},
     "output_type": "execute_result"
    }
   ],
   "source": [
    "ys = [random.randint(1,5) for _ in range(cp)]\n",
    "ys"
   ]
  },
  {
   "cell_type": "code",
   "execution_count": 25,
   "id": "b2530326",
   "metadata": {},
   "outputs": [
    {
     "data": {
      "text/plain": [
       "9.036815166473389"
      ]
     },
     "execution_count": 25,
     "metadata": {},
     "output_type": "execute_result"
    }
   ],
   "source": [
    "tic = time()\n",
    "mpxydelay(xs, ys, cp)\n",
    "toc = time()\n",
    "toc - tic"
   ]
  },
  {
   "cell_type": "markdown",
   "id": "948581cc",
   "metadata": {},
   "source": [
    "Note que lanzar 8 procesos tomó solo el tiempo de mayor par (x, y). En este caso, fueron nueve segundos."
   ]
  },
  {
   "cell_type": "markdown",
   "id": "2ceb4e2d",
   "metadata": {},
   "source": [
    "## Caso Factorial"
   ]
  },
  {
   "cell_type": "code",
   "execution_count": 26,
   "id": "0aaec91c",
   "metadata": {},
   "outputs": [],
   "source": [
    "def factorial(n):\n",
    "    f = 1\n",
    "    for x in range(1,n+1):\n",
    "        f *= x\n",
    "    return f"
   ]
  },
  {
   "cell_type": "markdown",
   "id": "a2b564d2",
   "metadata": {},
   "source": [
    "El factorial es una multiplicación de una secuencia de números, para optimizar su tiempo de ejecución usando múltiples procesos se puede dividir esa secuencia en pequeñas subsecuencias y luego multiplicar esos resultados parciales. Para esto vamos a crear dos funciones auxiliares; una para multiplicar una secuencia de números, y otra para multiplicar los elementos de una lista de números no necesariamente secuenciales."
   ]
  },
  {
   "cell_type": "code",
   "execution_count": 27,
   "id": "10f37741",
   "metadata": {},
   "outputs": [],
   "source": [
    "def prodseq(start,stop):\n",
    "    p = start\n",
    "    for n in range(start+1,stop+1):\n",
    "        p *= n\n",
    "    return p"
   ]
  },
  {
   "cell_type": "code",
   "execution_count": 28,
   "id": "633e5f5f",
   "metadata": {},
   "outputs": [],
   "source": [
    "def prodlist(nums):\n",
    "    p = 1\n",
    "    for num in nums:\n",
    "        p *= num\n",
    "    return p"
   ]
  },
  {
   "cell_type": "code",
   "execution_count": 29,
   "id": "d50ebabd",
   "metadata": {},
   "outputs": [],
   "source": [
    "def mpfactorial(n,cp):\n",
    "    # se le indica la cantidad de procesos y se crea el objeto\n",
    "    p = Pool(cp)\n",
    "    l1 = [((x*n)//cp)+1 for x in range(cp)]\n",
    "    l2 = [((x*n)//cp) for x in range(1,cp+1)]\n",
    "    rp = p.starmap(prodseq, zip(l1,l2))\n",
    "    p.close()\n",
    "    p.join()\n",
    "    return prodlist(rp)"
   ]
  },
  {
   "cell_type": "markdown",
   "id": "e5026267",
   "metadata": {},
   "source": [
    "Se realiza una prueba numérica para verificar que el valor es correcto"
   ]
  },
  {
   "cell_type": "code",
   "execution_count": 30,
   "id": "9178ab45",
   "metadata": {},
   "outputs": [
    {
     "data": {
      "text/plain": [
       "True"
      ]
     },
     "execution_count": 30,
     "metadata": {},
     "output_type": "execute_result"
    }
   ],
   "source": [
    "n = 100000\n",
    "mpfactorial(n,2) == mpfactorial(n,4) == mpfactorial(n,8) == factorial(n)"
   ]
  },
  {
   "cell_type": "markdown",
   "id": "e532f115",
   "metadata": {},
   "source": [
    "Podemos realizar una prueba de tiempo al vuelo para tener una idea de como serán los tiempos de ejecución."
   ]
  },
  {
   "cell_type": "code",
   "execution_count": 31,
   "id": "e17ac3f8",
   "metadata": {},
   "outputs": [
    {
     "name": "stdout",
     "output_type": "stream",
     "text": [
      "1.7 s ± 22.4 ms per loop (mean ± std. dev. of 2 runs, 10 loops each)\n"
     ]
    }
   ],
   "source": [
    "%timeit -r 2 -n 10 factorial(n)"
   ]
  },
  {
   "cell_type": "code",
   "execution_count": 32,
   "id": "9cb5db03",
   "metadata": {},
   "outputs": [
    {
     "name": "stdout",
     "output_type": "stream",
     "text": [
      "529 ms ± 1.88 ms per loop (mean ± std. dev. of 2 runs, 10 loops each)\n"
     ]
    }
   ],
   "source": [
    "%timeit -r 2 -n 10 mpfactorial(n,2)"
   ]
  },
  {
   "cell_type": "code",
   "execution_count": 33,
   "id": "a0db20a1",
   "metadata": {},
   "outputs": [
    {
     "name": "stdout",
     "output_type": "stream",
     "text": [
      "238 ms ± 5.86 ms per loop (mean ± std. dev. of 2 runs, 10 loops each)\n"
     ]
    }
   ],
   "source": [
    "%timeit -r 2 -n 10 mpfactorial(n,4)"
   ]
  },
  {
   "cell_type": "code",
   "execution_count": 34,
   "id": "791a72d6",
   "metadata": {},
   "outputs": [
    {
     "name": "stdout",
     "output_type": "stream",
     "text": [
      "225 ms ± 1.84 ms per loop (mean ± std. dev. of 2 runs, 10 loops each)\n"
     ]
    }
   ],
   "source": [
    "%timeit -r 2 -n 10 mpfactorial(n,8)"
   ]
  },
  {
   "cell_type": "markdown",
   "id": "84a63d97",
   "metadata": {},
   "source": [
    "## Pruebas"
   ]
  },
  {
   "cell_type": "code",
   "execution_count": 35,
   "id": "101731e2",
   "metadata": {},
   "outputs": [],
   "source": [
    "import statistics\n",
    "\n",
    "def filtro_mediana(sign, w):\n",
    "    signc = []\n",
    "    lc = sign+sign+sign\n",
    "    ii = len(sign)\n",
    "    for i in range(len(sign)):\n",
    "        izq = i + ii - w//2\n",
    "        der = i + ii + w//2\n",
    "        signc.append(statistics.median(lc[izq:der+1]))\n",
    "    return signc"
   ]
  },
  {
   "cell_type": "code",
   "execution_count": 36,
   "id": "ad857f1d",
   "metadata": {},
   "outputs": [],
   "source": [
    "from statistics import mean"
   ]
  },
  {
   "cell_type": "code",
   "execution_count": 37,
   "id": "fb586ded",
   "metadata": {},
   "outputs": [],
   "source": [
    "import matplotlib.pyplot as plt"
   ]
  },
  {
   "cell_type": "code",
   "execution_count": 38,
   "id": "9754faad",
   "metadata": {},
   "outputs": [],
   "source": [
    "start = 10000\n",
    "stop = 100000 + start\n",
    "step = start\n",
    "tams = range(start,stop,step)\n",
    "veces = range(20)"
   ]
  },
  {
   "cell_type": "code",
   "execution_count": 39,
   "id": "ac2f37f9",
   "metadata": {},
   "outputs": [],
   "source": [
    "ls = []\n",
    "lmp2 = []\n",
    "lmp4 = []\n",
    "lmp8 = []\n",
    "for tam in tams:\n",
    "    lsi = []\n",
    "    lmp2i = []\n",
    "    lmp4i = []\n",
    "    lmp8i = []\n",
    "    for _ in veces:\n",
    "        tic = time()\n",
    "        rs = factorial(tam)\n",
    "        toc = time()\n",
    "        lsi.append(toc-tic)\n",
    "        \n",
    "        tic = time()\n",
    "        rmp2 = mpfactorial(tam,2)\n",
    "        toc = time()\n",
    "        lmp2i.append(toc-tic)\n",
    "        \n",
    "        tic = time()\n",
    "        rmp4 = mpfactorial(tam,4)\n",
    "        toc = time()\n",
    "        lmp4i.append(toc-tic)\n",
    "        \n",
    "        tic = time()\n",
    "        rmp8 = mpfactorial(tam,8)\n",
    "        toc = time()\n",
    "        lmp8i.append(toc-tic)\n",
    "        \n",
    "    ls.append(mean(filtro_mediana(lsi,7)))\n",
    "    lmp2.append(mean(filtro_mediana(lmp2i,7)))\n",
    "    lmp4.append(mean(filtro_mediana(lmp4i,7)))\n",
    "    lmp8.append(mean(filtro_mediana(lmp8i,7)))"
   ]
  },
  {
   "cell_type": "code",
   "execution_count": 40,
   "id": "e3cc99fc",
   "metadata": {},
   "outputs": [
    {
     "data": {
      "text/plain": [
       "<matplotlib.legend.Legend at 0x7f4e9afa3490>"
      ]
     },
     "execution_count": 40,
     "metadata": {},
     "output_type": "execute_result"
    },
    {
     "data": {
      "image/png": "[encoded data removed]",
      "text/plain": [
       "<Figure size 432x288 with 1 Axes>"
      ]
     },
     "metadata": {
      "needs_background": "light"
     },
     "output_type": "display_data"
    }
   ],
   "source": [
    "plt.plot(tams,ls,'r-o',label='serial')\n",
    "plt.plot(tams,lmp2,'g-o',label='mp2')\n",
    "plt.plot(tams,lmp4,'b-o',label='mp4')\n",
    "plt.plot(tams,lmp8,'c-o',label='mp8')\n",
    "plt.xlabel('N')\n",
    "plt.ylabel('Tiempo promedio')\n",
    "plt.legend()"
   ]
  },
  {
   "cell_type": "markdown",
   "id": "6b27e04a",
   "metadata": {},
   "source": [
    "En general, la gráfica muestra un comportamiento esperado; sin embargo, el primer caso no se aprecia bien. Para esto se realizará un acercamiento."
   ]
  },
  {
   "cell_type": "code",
   "execution_count": 41,
   "id": "8f6ce703",
   "metadata": {},
   "outputs": [
    {
     "data": {
      "image/png": "[encoded data removed]",
      "text/plain": [
       "<Figure size 432x288 with 1 Axes>"
      ]
     },
     "metadata": {
      "needs_background": "light"
     },
     "output_type": "display_data"
    }
   ],
   "source": [
    "noms = ['serial','mp2','mp4','mp8']\n",
    "proms1 = [ls[0], lmp2[0], lmp4[0], lmp8[0]]\n",
    "plt.bar(noms,proms1,color='r')\n",
    "plt.tight_layout()"
   ]
  },
  {
   "cell_type": "markdown",
   "id": "20f3ce56",
   "metadata": {},
   "source": [
    "Se observa que para el primer caso todas las formas con múltiples procesos presentaron tiempos mayores a la forma serial, y luego recién a partir del segundo tamagno se empieza a observar ganancia, pero tampoco se aprecia con claridad."
   ]
  },
  {
   "cell_type": "code",
   "execution_count": 42,
   "id": "b187dd3d",
   "metadata": {},
   "outputs": [
    {
     "data": {
      "text/plain": [
       "<matplotlib.legend.Legend at 0x7f4e9ae757c0>"
      ]
     },
     "execution_count": 42,
     "metadata": {},
     "output_type": "execute_result"
    },
    {
     "data": {
      "image/png": "[encoded data removed]",
      "text/plain": [
       "<Figure size 432x288 with 1 Axes>"
      ]
     },
     "metadata": {
      "needs_background": "light"
     },
     "output_type": "display_data"
    }
   ],
   "source": [
    "plt.plot(tams[1:],ls[1:],'r-o',label='serial')\n",
    "plt.plot(tams[1:],lmp2[1:],'g-o',label='mp2')\n",
    "plt.plot(tams[1:],lmp4[1:],'b-o',label='mp4')\n",
    "plt.plot(tams[1:],lmp8[1:],'c-o',label='mp8')\n",
    "plt.xlabel('N')\n",
    "plt.ylabel('Tiempo promedio')\n",
    "plt.legend()"
   ]
  },
  {
   "cell_type": "markdown",
   "id": "fcbdde7d",
   "metadata": {},
   "source": [
    "¿Qué ocurre en el segundo tamaño? "
   ]
  },
  {
   "cell_type": "code",
   "execution_count": 43,
   "id": "da914f7b",
   "metadata": {},
   "outputs": [
    {
     "data": {
      "image/png": "[encoded data removed]",
      "text/plain": [
       "<Figure size 432x288 with 1 Axes>"
      ]
     },
     "metadata": {
      "needs_background": "light"
     },
     "output_type": "display_data"
    }
   ],
   "source": [
    "noms = ['serial','mp2','mp4','mp8']\n",
    "proms1 = [ls[1], lmp2[1], lmp4[1], lmp8[1]]\n",
    "plt.bar(noms,proms1,color='r')\n",
    "plt.tight_layout()"
   ]
  },
  {
   "cell_type": "markdown",
   "id": "5fc081b2",
   "metadata": {},
   "source": [
    "Note que para el segundo tamaño todos las formas con `multiprocessing` demoran menos que la forma serial, pero con 8 núcleos ha demorado más que con 4 núcleos. ¿Cuál podría ser el problema?"
   ]
  },
  {
   "cell_type": "code",
   "execution_count": 44,
   "id": "139daeb2",
   "metadata": {},
   "outputs": [
    {
     "data": {
      "text/plain": [
       "<matplotlib.legend.Legend at 0x7f4e99db7100>"
      ]
     },
     "execution_count": 44,
     "metadata": {},
     "output_type": "execute_result"
    },
    {
     "data": {
      "image/png": "[encoded data removed]",
      "text/plain": [
       "<Figure size 432x288 with 1 Axes>"
      ]
     },
     "metadata": {
      "needs_background": "light"
     },
     "output_type": "display_data"
    }
   ],
   "source": [
    "plt.plot(tams[2:],ls[2:],'r-o',label='serial')\n",
    "plt.plot(tams[2:],lmp2[2:],'g-o',label='mp2')\n",
    "plt.plot(tams[2:],lmp4[2:],'b-o',label='mp4')\n",
    "plt.plot(tams[2:],lmp8[2:],'c-o',label='mp8')\n",
    "plt.xlabel('N')\n",
    "plt.ylabel('Tiempo promedio')\n",
    "plt.legend()"
   ]
  },
  {
   "cell_type": "markdown",
   "id": "86362257",
   "metadata": {},
   "source": [
    "No se aprecia la diferencia de tiempos entre la función que usa cuatro procesos y la que usa ocho procesos. Quizás sería mejor graficar esas dos curvas de forma aislada."
   ]
  },
  {
   "cell_type": "code",
   "execution_count": 45,
   "id": "0d084513",
   "metadata": {},
   "outputs": [
    {
     "data": {
      "text/plain": [
       "<matplotlib.legend.Legend at 0x7f4e99cf41c0>"
      ]
     },
     "execution_count": 45,
     "metadata": {},
     "output_type": "execute_result"
    },
    {
     "data": {
      "image/png": "[encoded data removed]",
      "text/plain": [
       "<Figure size 432x288 with 1 Axes>"
      ]
     },
     "metadata": {
      "needs_background": "light"
     },
     "output_type": "display_data"
    }
   ],
   "source": [
    "plt.plot(tams[2:],lmp4[2:],'b-o',label='mp4')\n",
    "plt.plot(tams[2:],lmp8[2:],'c-o',label='mp8')\n",
    "plt.xlabel('N')\n",
    "plt.ylabel('Tiempo promedio')\n",
    "plt.legend()"
   ]
  },
  {
   "cell_type": "markdown",
   "id": "a68fc9ed",
   "metadata": {},
   "source": [
    "Se ve que usar ocho procesos solo redujo el tiempo de ejecución en los dos últimos tamaños y tampoco fue por tanta diferencia."
   ]
  },
  {
   "cell_type": "code",
   "execution_count": 46,
   "id": "f1857a1c",
   "metadata": {},
   "outputs": [],
   "source": [
    "from numpy import asarray"
   ]
  },
  {
   "cell_type": "code",
   "execution_count": 47,
   "id": "ea30e518",
   "metadata": {},
   "outputs": [
    {
     "data": {
      "text/plain": [
       "<matplotlib.legend.Legend at 0x7f4e64857ac0>"
      ]
     },
     "execution_count": 47,
     "metadata": {},
     "output_type": "execute_result"
    },
    {
     "data": {
      "image/png": "[encoded data removed]",
      "text/plain": [
       "<Figure size 432x288 with 1 Axes>"
      ]
     },
     "metadata": {
      "needs_background": "light"
     },
     "output_type": "display_data"
    }
   ],
   "source": [
    "plt.plot(tams,asarray(ls)/asarray(lmp2),'g-o',label='mp2')\n",
    "plt.plot(tams,asarray(ls)/asarray(lmp4),'b-o',label='mp4')\n",
    "plt.plot(tams,asarray(ls)/asarray(lmp8),'c-o',label='mp8')\n",
    "plt.xlabel('N')\n",
    "plt.ylabel('Speedup')\n",
    "plt.legend()"
   ]
  },
  {
   "cell_type": "markdown",
   "id": "36051e64",
   "metadata": {},
   "source": [
    "En línea con las observaciones anteriores, en el primer caso, la gráfica muestra que todos presentan pérdidas en tiempo de ejecución, y a partir del segundo caso todos presentan ganancia."
   ]
  },
  {
   "cell_type": "markdown",
   "id": "5a2f9437",
   "metadata": {},
   "source": [
    "Como comentario, solo mencionar que el uso de múltiples procesos se recomienda solo en casos de una aplicación que esté limitada por CPU, y que requiera mucha computación. Por otro lado, la cantidad de procesos que puede lanzar no está limitada, pero se recomienda que no exceda a la cantidad de núcleos que posee su ordenador."
   ]
  },
  {
   "cell_type": "markdown",
   "id": "dc71bfc5",
   "metadata": {},
   "source": [
    "Se recomienda al lector realizar mediciones con una cantidad de procesos mayor a la cantidad de CPUs y comentar las observaciones."
   ]
  }
 ],
 "metadata": {
  "kernelspec": {
   "display_name": "Python 3 (ipykernel)",
   "language": "python",
   "name": "python3"
  },
  "language_info": {
   "codemirror_mode": {
    "name": "ipython",
    "version": 3
   },
   "file_extension": ".py",
   "mimetype": "text/x-python",
   "name": "python",
   "nbconvert_exporter": "python",
   "pygments_lexer": "ipython3",
   "version": "3.8.10"
  }
 },
 "nbformat": 4,
 "nbformat_minor": 5
}
