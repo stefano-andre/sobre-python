{
 "cells": [
  {
   "cell_type": "markdown",
   "id": "da65f4d9",
   "metadata": {},
   "source": [
    "# Simulación de modelos de memoria caché"
   ]
  },
  {
   "cell_type": "markdown",
   "id": "3801ddf9",
   "metadata": {},
   "source": [
    "## Mapeo directo "
   ]
  },
  {
   "cell_type": "code",
   "execution_count": 1,
   "id": "cdddae0e",
   "metadata": {},
   "outputs": [],
   "source": [
    "cache_size = 10\n",
    "cache = [[0, 0]] * cache_size\n",
    "total = 0\n",
    "hit = 0\n",
    "miss = 0"
   ]
  },
  {
   "cell_type": "code",
   "execution_count": 2,
   "id": "3798f5c4",
   "metadata": {},
   "outputs": [],
   "source": [
    "def exp(n):\n",
    "    global total, hit, miss\n",
    "    idx = n % cache_size\n",
    "    total += 1\n",
    "    if cache[idx][0] == n:\n",
    "        hit += 1\n",
    "        return cache[idx][1]\n",
    "    miss += 1\n",
    "    res = 1\n",
    "    for i in range(n):\n",
    "        res *= n\n",
    "    \n",
    "    cache[idx] = [n, res]\n",
    "\n",
    "    return res"
   ]
  },
  {
   "cell_type": "code",
   "execution_count": 3,
   "id": "584cc736",
   "metadata": {},
   "outputs": [
    {
     "name": "stdout",
     "output_type": "stream",
     "text": [
      "El tiempo de ejecucion para exp de 5000 es 0.004170034000708256\n",
      "El tiempo de ejecucion para exp de 220 es 2.1742001990787685e-05\n",
      "El tiempo de ejecucion para exp de 457 es 5.134499951964244e-05\n",
      "El tiempo de ejecucion para exp de 12 es 2.2129970602691174e-06\n",
      "El tiempo de ejecucion para exp de 323 es 2.8664002456935123e-05\n",
      "El tiempo de ejecucion para exp de 440 es 4.4375003199093044e-05\n",
      "El tiempo de ejecucion para exp de 323 es 1.1470001481939107e-06\n",
      "El tiempo de ejecucion para exp de 5000 es 0.007127384000341408\n",
      "El tiempo de ejecucion para exp de 220 es 1.819099998101592e-05\n",
      "El tiempo de ejecucion para exp de 440 es 4.665199958253652e-05\n",
      "Porcentaje de hit: 10.0%, porcentaje miss: 90.0%, total de accesos: 10\n"
     ]
    }
   ],
   "source": [
    "import time\n",
    "\n",
    "lista_n = [5000, 220, 457, 12, 323, 440, 323, 5000, 220, 440]\n",
    "\n",
    "for num in lista_n:\n",
    "    inicio = time.perf_counter()\n",
    "    resultado = exp(num)\n",
    "    fin = time.perf_counter()\n",
    "    \n",
    "    print(f\"El tiempo de ejecucion para exp de {num} es {fin - inicio}\")\n",
    "\n",
    "porcentaje_hit = (float(hit) / float(total)) * 100\n",
    "porcentaje_miss = (float(miss) / float(total)) * 100\n",
    "\n",
    "print(f\"Porcentaje de hit: {porcentaje_hit}%, porcentaje miss: {porcentaje_miss}%, total de accesos: {total}\")"
   ]
  },
  {
   "cell_type": "code",
   "execution_count": null,
   "id": "52df33ed",
   "metadata": {},
   "outputs": [],
   "source": []
  }
 ],
 "metadata": {
  "kernelspec": {
   "display_name": "Python 3 (ipykernel)",
   "language": "python",
   "name": "python3"
  },
  "language_info": {
   "codemirror_mode": {
    "name": "ipython",
    "version": 3
   },
   "file_extension": ".py",
   "mimetype": "text/x-python",
   "name": "python",
   "nbconvert_exporter": "python",
   "pygments_lexer": "ipython3",
   "version": "3.8.10"
  }
 },
 "nbformat": 4,
 "nbformat_minor": 5
}
