{
 "cells": [
  {
   "cell_type": "markdown",
   "id": "da65f4d9",
   "metadata": {},
   "source": [
    "# Simulación de modelos de memoria caché"
   ]
  },
  {
   "cell_type": "markdown",
   "id": "cf158092",
   "metadata": {},
   "source": [
    "## Dependencias"
   ]
  },
  {
   "cell_type": "code",
   "execution_count": 1,
   "id": "b1cc49ce",
   "metadata": {},
   "outputs": [],
   "source": [
    "import time"
   ]
  },
  {
   "cell_type": "markdown",
   "id": "3801ddf9",
   "metadata": {},
   "source": [
    "## Mapeo directo "
   ]
  },
  {
   "cell_type": "code",
   "execution_count": 2,
   "id": "cdddae0e",
   "metadata": {},
   "outputs": [],
   "source": [
    "cache_size = 10\n",
    "cache = [[0, 0]] * cache_size\n",
    "total = 0\n",
    "hit = 0\n",
    "miss = 0"
   ]
  },
  {
   "cell_type": "code",
   "execution_count": 3,
   "id": "3798f5c4",
   "metadata": {},
   "outputs": [],
   "source": [
    "def exp(n):\n",
    "    global total, hit, miss\n",
    "    idx = n % cache_size\n",
    "    total += 1\n",
    "    if cache[idx][0] == n:\n",
    "        hit += 1\n",
    "        return cache[idx][1]\n",
    "    miss += 1\n",
    "    res = 1\n",
    "    for i in range(n):\n",
    "        res *= n\n",
    "    \n",
    "    cache[idx] = [n, res]\n",
    "\n",
    "    return res"
   ]
  },
  {
   "cell_type": "code",
   "execution_count": 4,
   "id": "584cc736",
   "metadata": {},
   "outputs": [
    {
     "name": "stdout",
     "output_type": "stream",
     "text": [
      "El tiempo de ejecucion para exp de 5000 es 0.004518335001193918\n",
      "El tiempo de ejecucion para exp de 220 es 2.1611998818116263e-05\n",
      "El tiempo de ejecucion para exp de 457 es 5.292499918141402e-05\n",
      "El tiempo de ejecucion para exp de 12 es 2.4080000002868474e-06\n",
      "El tiempo de ejecucion para exp de 323 es 3.0028997571207583e-05\n",
      "El tiempo de ejecucion para exp de 440 es 4.6838002162985504e-05\n",
      "El tiempo de ejecucion para exp de 323 es 1.2130003597121686e-06\n",
      "El tiempo de ejecucion para exp de 5000 es 0.009334070000477368\n",
      "El tiempo de ejecucion para exp de 220 es 2.0069997844984755e-05\n",
      "El tiempo de ejecucion para exp de 440 es 4.8054000217234716e-05\n",
      "Porcentaje de hit: 10.0%, porcentaje miss: 90.0%, total de accesos: 10\n"
     ]
    }
   ],
   "source": [
    "lista_n = [5000, 220, 457, 12, 323, 440, 323, 5000, 220, 440]\n",
    "\n",
    "for num in lista_n:\n",
    "    inicio = time.perf_counter()\n",
    "    resultado = exp(num)\n",
    "    fin = time.perf_counter()\n",
    "    \n",
    "    print(f\"El tiempo de ejecucion para exp de {num} es {fin - inicio}\")\n",
    "\n",
    "porcentaje_hit = (float(hit) / float(total)) * 100\n",
    "porcentaje_miss = (float(miss) / float(total)) * 100\n",
    "\n",
    "print(f\"Porcentaje de hit: {porcentaje_hit}%, porcentaje miss: {porcentaje_miss}%, total de accesos: {total}\")"
   ]
  },
  {
   "cell_type": "markdown",
   "id": "4315b216",
   "metadata": {},
   "source": [
    "## Mapeo asociativo"
   ]
  },
  {
   "cell_type": "code",
   "execution_count": 5,
   "id": "15a1dd80",
   "metadata": {},
   "outputs": [],
   "source": [
    "cache_size = 10\n",
    "cache = [[0, 0]] * cache_size\n",
    "idx = 0\n",
    "total = 0\n",
    "hit = 0\n",
    "miss = 0"
   ]
  },
  {
   "cell_type": "code",
   "execution_count": 6,
   "id": "99cc60fe",
   "metadata": {},
   "outputs": [],
   "source": [
    "# Politica de reemplazo FIFO\n",
    "# Ejercicio: Implementar con politica de reemplazo LFU (Least Frequently Used)\n",
    "def exp(n):\n",
    "    global total, hit, miss, idx\n",
    "    total += 1\n",
    "    for i in range(cache_size):\n",
    "        if cache[i][0] == n:\n",
    "            hit += 1\n",
    "            return cache[i][1]    \n",
    "    miss += 1\n",
    "    res = 1\n",
    "\n",
    "    for i in range(n):\n",
    "        res *= n\n",
    "    \n",
    "    cache[idx] = [n, res]\n",
    "    if idx == 9:\n",
    "        idx = 0\n",
    "    else:\n",
    "        idx += 1\n",
    "\n",
    "    return res"
   ]
  },
  {
   "cell_type": "code",
   "execution_count": 7,
   "id": "58a7929b",
   "metadata": {},
   "outputs": [
    {
     "name": "stdout",
     "output_type": "stream",
     "text": [
      "El tiempo de ejecucion para exp de 5000 es 0.0044157999982417095\n",
      "El tiempo de ejecucion para exp de 220 es 4.9652000598143786e-05\n",
      "El tiempo de ejecucion para exp de 457 es 0.00010671500058379024\n",
      "El tiempo de ejecucion para exp de 12 es 2.959997800644487e-06\n",
      "El tiempo de ejecucion para exp de 323 es 3.00779975077603e-05\n",
      "El tiempo de ejecucion para exp de 440 es 4.663399886339903e-05\n",
      "El tiempo de ejecucion para exp de 323 es 1.7339989426545799e-06\n",
      "El tiempo de ejecucion para exp de 5000 es 1.034000888466835e-06\n",
      "El tiempo de ejecucion para exp de 220 es 1.1039992386940867e-06\n",
      "El tiempo de ejecucion para exp de 440 es 1.2979980965610594e-06\n",
      "Porcentaje de hit: 40.0%, porcentaje miss: 60.0%, total de accesos: 10\n"
     ]
    }
   ],
   "source": [
    "lista_n = [5000, 220, 457, 12, 323, 440, 323, 5000, 220, 440]\n",
    "\n",
    "for num in lista_n:\n",
    "    inicio = time.perf_counter()\n",
    "    resultado = exp(num)\n",
    "    fin = time.perf_counter()\n",
    "    print(f\"El tiempo de ejecucion para exp de {num} es {fin - inicio}\")\n",
    "\n",
    "porcentaje_hit = (float(hit) / float(total)) * 100\n",
    "porcentaje_miss = (float(miss) / float(total)) * 100\n",
    "\n",
    "print(f\"Porcentaje de hit: {porcentaje_hit}%, porcentaje miss: {porcentaje_miss}%, total de accesos: {total}\")"
   ]
  },
  {
   "cell_type": "markdown",
   "id": "30c1d780",
   "metadata": {},
   "source": [
    "## Mapeo asociativo por conjuntos"
   ]
  },
  {
   "cell_type": "code",
   "execution_count": 8,
   "id": "c1162f1e",
   "metadata": {},
   "outputs": [],
   "source": [
    "cache_size = 10\n",
    "num_conjuntos = 2\n",
    "cache = [[0, 0]] * cache_size\n",
    "idxo = [0] * num_conjuntos\n",
    "total = 0\n",
    "hit = 0\n",
    "miss = 0"
   ]
  },
  {
   "cell_type": "code",
   "execution_count": 9,
   "id": "fc1de038",
   "metadata": {},
   "outputs": [],
   "source": [
    "# Politica de reemplazo FIFO\n",
    "# Ejercicio: Implementar con politica de reemplazo LFU (Least Frequently Used)\n",
    "def exp(n):\n",
    "    global total, hit, miss\n",
    "    total += 1\n",
    "    idxc = n % num_conjuntos\n",
    "    p = int(cache_size / num_conjuntos)\n",
    "    for i in range(idxc * p, idxc * p + p):\n",
    "        if cache[i][0] == n:\n",
    "            hit += 1\n",
    "            return cache[i][1]    \n",
    "    miss += 1\n",
    "    res = 1\n",
    "\n",
    "    for i in range(n):\n",
    "        res *= n\n",
    "    \n",
    "    idx = (idxc * p) + idxo[idxc]\n",
    "    cache[idx] = [n, res]\n",
    "\n",
    "    if idxo[idxc] == p - 1:\n",
    "        idxo[idxc] = 0\n",
    "    else:\n",
    "        idxo[idxc] += 1\n",
    "\n",
    "    return res"
   ]
  },
  {
   "cell_type": "code",
   "execution_count": 10,
   "id": "26e206ed",
   "metadata": {},
   "outputs": [
    {
     "name": "stdout",
     "output_type": "stream",
     "text": [
      "El tiempo de ejecucion para exp de 5000 es 0.004201703999569872\n",
      "El tiempo de ejecucion para exp de 220 es 3.9025999285513535e-05\n",
      "El tiempo de ejecucion para exp de 457 es 8.5753999883309e-05\n",
      "El tiempo de ejecucion para exp de 12 es 3.5609991755336523e-06\n",
      "El tiempo de ejecucion para exp de 323 es 2.9191000066930428e-05\n",
      "El tiempo de ejecucion para exp de 440 es 0.00014582399671780877\n",
      "El tiempo de ejecucion para exp de 323 es 2.201999450335279e-06\n",
      "El tiempo de ejecucion para exp de 440 es 1.8709979485720396e-06\n",
      "El tiempo de ejecucion para exp de 220 es 1.6240010154433548e-06\n",
      "El tiempo de ejecucion para exp de 5000 es 1.7310012481175363e-06\n",
      "Porcentaje de hit: 40.0%, porcentaje miss: 60.0%, total de accesos: 10\n"
     ]
    }
   ],
   "source": [
    "lista_n = [5000, 220, 457, 12, 323, 440, 323, 440, 220, 5000]\n",
    "\n",
    "for num in lista_n:\n",
    "    inicio = time.perf_counter()\n",
    "    resultado = exp(num)\n",
    "    fin = time.perf_counter()\n",
    "    print(f\"El tiempo de ejecucion para exp de {num} es {fin - inicio}\")\n",
    "\n",
    "porcentaje_hit = (float(hit) / float(total)) * 100\n",
    "porcentaje_miss = (float(miss) / float(total)) * 100\n",
    "\n",
    "print(f\"Porcentaje de hit: {porcentaje_hit}%, porcentaje miss: {porcentaje_miss}%, total de accesos: {total}\")"
   ]
  }
 ],
 "metadata": {
  "kernelspec": {
   "display_name": "Python 3 (ipykernel)",
   "language": "python",
   "name": "python3"
  },
  "language_info": {
   "codemirror_mode": {
    "name": "ipython",
    "version": 3
   },
   "file_extension": ".py",
   "mimetype": "text/x-python",
   "name": "python",
   "nbconvert_exporter": "python",
   "pygments_lexer": "ipython3",
   "version": "3.8.10"
  }
 },
 "nbformat": 4,
 "nbformat_minor": 5
}
