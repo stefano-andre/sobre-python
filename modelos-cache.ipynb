{
 "cells": [
  {
   "cell_type": "markdown",
   "id": "da65f4d9",
   "metadata": {},
   "source": [
    "# Simulación de modelos de memoria caché"
   ]
  },
  {
   "cell_type": "markdown",
   "id": "cf158092",
   "metadata": {},
   "source": [
    "## Dependencias"
   ]
  },
  {
   "cell_type": "code",
   "execution_count": 1,
   "id": "b1cc49ce",
   "metadata": {},
   "outputs": [],
   "source": [
    "import time"
   ]
  },
  {
   "cell_type": "markdown",
   "id": "3801ddf9",
   "metadata": {},
   "source": [
    "## Mapeo directo "
   ]
  },
  {
   "cell_type": "code",
   "execution_count": 2,
   "id": "cdddae0e",
   "metadata": {},
   "outputs": [],
   "source": [
    "cache_size = 512\n",
    "cache = [[0, 0]] * cache_size\n",
    "total = 0\n",
    "hit = 0\n",
    "miss = 0"
   ]
  },
  {
   "cell_type": "code",
   "execution_count": 3,
   "id": "3798f5c4",
   "metadata": {},
   "outputs": [],
   "source": [
    "def expmapdir(n):\n",
    "    global total, hit, miss\n",
    "    idx = n % cache_size\n",
    "    total += 1\n",
    "    if cache[idx][0] == n:\n",
    "        hit += 1\n",
    "        return cache[idx][1]\n",
    "    miss += 1\n",
    "    res = 1\n",
    "    for i in range(n):\n",
    "        res *= n\n",
    "    \n",
    "    cache[idx] = [n, res]\n",
    "\n",
    "    return res"
   ]
  },
  {
   "cell_type": "code",
   "execution_count": 4,
   "id": "584cc736",
   "metadata": {},
   "outputs": [
    {
     "name": "stdout",
     "output_type": "stream",
     "text": [
      "El tiempo de ejecucion para exp de 5000 es 0.004164205001870869\n",
      "El tiempo de ejecucion para exp de 220 es 1.9896000594599172e-05\n",
      "El tiempo de ejecucion para exp de 457 es 5.143300222698599e-05\n",
      "El tiempo de ejecucion para exp de 12 es 2.315002348041162e-06\n",
      "El tiempo de ejecucion para exp de 323 es 2.834500264725648e-05\n",
      "El tiempo de ejecucion para exp de 440 es 4.495100074564107e-05\n",
      "El tiempo de ejecucion para exp de 323 es 1.0699986887630075e-06\n",
      "El tiempo de ejecucion para exp de 5000 es 1.0630028555169702e-06\n",
      "El tiempo de ejecucion para exp de 220 es 9.700015652924776e-07\n",
      "El tiempo de ejecucion para exp de 440 es 9.239993232768029e-07\n",
      "Porcentaje de hit: 40.0%, porcentaje miss: 60.0%, total de accesos: 10\n"
     ]
    }
   ],
   "source": [
    "lista_n = [5000, 220, 457, 12, 323, 440, 323, 5000, 220, 440]\n",
    "\n",
    "for num in lista_n:\n",
    "    inicio = time.perf_counter()\n",
    "    resultado = expmapdir(num)\n",
    "    fin = time.perf_counter()\n",
    "    \n",
    "    print(f\"El tiempo de ejecucion para exp de {num} es {fin - inicio}\")\n",
    "\n",
    "porcentaje_hit = (float(hit) / float(total)) * 100\n",
    "porcentaje_miss = (float(miss) / float(total)) * 100\n",
    "\n",
    "print(f\"Porcentaje de hit: {porcentaje_hit}%, porcentaje miss: {porcentaje_miss}%, total de accesos: {total}\")"
   ]
  },
  {
   "cell_type": "markdown",
   "id": "4315b216",
   "metadata": {},
   "source": [
    "## Mapeo asociativo"
   ]
  },
  {
   "cell_type": "code",
   "execution_count": 5,
   "id": "15a1dd80",
   "metadata": {},
   "outputs": [],
   "source": [
    "cache_size = 512\n",
    "cache = [[0, 0]] * cache_size\n",
    "idx = 0\n",
    "total = 0\n",
    "hit = 0\n",
    "miss = 0"
   ]
  },
  {
   "cell_type": "code",
   "execution_count": 6,
   "id": "99cc60fe",
   "metadata": {},
   "outputs": [],
   "source": [
    "# Politica de reemplazo FIFO\n",
    "# Ejercicio: Implementar con politica de reemplazo LFU (Least Frequently Used)\n",
    "def expmapasoc(n):\n",
    "    global total, hit, miss, idx\n",
    "    total += 1\n",
    "    for i in range(cache_size):\n",
    "        if cache[i][0] == n:\n",
    "            hit += 1\n",
    "            return cache[i][1]    \n",
    "    miss += 1\n",
    "    res = 1\n",
    "\n",
    "    for i in range(n):\n",
    "        res *= n\n",
    "    \n",
    "    cache[idx] = [n, res]\n",
    "    if idx == 9:\n",
    "        idx = 0\n",
    "    else:\n",
    "        idx += 1\n",
    "\n",
    "    return res"
   ]
  },
  {
   "cell_type": "code",
   "execution_count": 7,
   "id": "58a7929b",
   "metadata": {},
   "outputs": [
    {
     "name": "stdout",
     "output_type": "stream",
     "text": [
      "El tiempo de ejecucion para exp de 5000 es 0.004939722999552032\n",
      "El tiempo de ejecucion para exp de 220 es 4.2236999433953315e-05\n",
      "El tiempo de ejecucion para exp de 457 es 7.270299829542637e-05\n",
      "El tiempo de ejecucion para exp de 12 es 2.3787997633917257e-05\n",
      "El tiempo de ejecucion para exp de 323 es 4.986999920220114e-05\n",
      "El tiempo de ejecucion para exp de 440 es 6.679500074824318e-05\n",
      "El tiempo de ejecucion para exp de 323 es 2.273998688906431e-06\n",
      "El tiempo de ejecucion para exp de 5000 es 1.5089972293935716e-06\n",
      "El tiempo de ejecucion para exp de 220 es 1.5699988580308855e-06\n",
      "El tiempo de ejecucion para exp de 440 es 1.6749982023611665e-06\n",
      "Porcentaje de hit: 40.0%, porcentaje miss: 60.0%, total de accesos: 10\n"
     ]
    }
   ],
   "source": [
    "lista_n = [5000, 220, 457, 12, 323, 440, 323, 5000, 220, 440]\n",
    "\n",
    "for num in lista_n:\n",
    "    inicio = time.perf_counter()\n",
    "    resultado = expmapasoc(num)\n",
    "    fin = time.perf_counter()\n",
    "    print(f\"El tiempo de ejecucion para exp de {num} es {fin - inicio}\")\n",
    "\n",
    "porcentaje_hit = (float(hit) / float(total)) * 100\n",
    "porcentaje_miss = (float(miss) / float(total)) * 100\n",
    "\n",
    "print(f\"Porcentaje de hit: {porcentaje_hit}%, porcentaje miss: {porcentaje_miss}%, total de accesos: {total}\")"
   ]
  },
  {
   "cell_type": "markdown",
   "id": "30c1d780",
   "metadata": {},
   "source": [
    "## Mapeo asociativo por conjuntos"
   ]
  },
  {
   "cell_type": "code",
   "execution_count": 8,
   "id": "c1162f1e",
   "metadata": {},
   "outputs": [],
   "source": [
    "cache_size = 512\n",
    "num_conjuntos = 2\n",
    "cache = [[0, 0]] * cache_size\n",
    "idxo = [0] * num_conjuntos\n",
    "total = 0\n",
    "hit = 0\n",
    "miss = 0"
   ]
  },
  {
   "cell_type": "code",
   "execution_count": 9,
   "id": "fc1de038",
   "metadata": {},
   "outputs": [],
   "source": [
    "# Politica de reemplazo FIFO\n",
    "# Ejercicio: Implementar con politica de reemplazo LFU (Least Frequently Used)\n",
    "def expmapasocon(n):\n",
    "    global total, hit, miss\n",
    "    total += 1\n",
    "    idxc = n % num_conjuntos\n",
    "    p = int(cache_size / num_conjuntos)\n",
    "    for i in range(idxc * p, idxc * p + p):\n",
    "        if cache[i][0] == n:\n",
    "            hit += 1\n",
    "            return cache[i][1]    \n",
    "    miss += 1\n",
    "    res = 1\n",
    "\n",
    "    for i in range(n):\n",
    "        res *= n\n",
    "    \n",
    "    idx = (idxc * p) + idxo[idxc]\n",
    "    cache[idx] = [n, res]\n",
    "\n",
    "    if idxo[idxc] == p - 1:\n",
    "        idxo[idxc] = 0\n",
    "    else:\n",
    "        idxo[idxc] += 1\n",
    "\n",
    "    return res"
   ]
  },
  {
   "cell_type": "code",
   "execution_count": 10,
   "id": "26e206ed",
   "metadata": {},
   "outputs": [
    {
     "name": "stdout",
     "output_type": "stream",
     "text": [
      "El tiempo de ejecucion para exp de 5000 es 0.004295598002499901\n",
      "El tiempo de ejecucion para exp de 220 es 3.2656000257702544e-05\n",
      "El tiempo de ejecucion para exp de 457 es 6.439899880206212e-05\n",
      "El tiempo de ejecucion para exp de 12 es 1.4318000467028469e-05\n",
      "El tiempo de ejecucion para exp de 323 es 4.219699985696934e-05\n",
      "El tiempo de ejecucion para exp de 440 es 5.66160015296191e-05\n",
      "El tiempo de ejecucion para exp de 323 es 1.939999492606148e-06\n",
      "El tiempo de ejecucion para exp de 440 es 2.0500010577961802e-06\n",
      "El tiempo de ejecucion para exp de 220 es 1.6520025383215398e-06\n",
      "El tiempo de ejecucion para exp de 5000 es 1.5689984138589352e-06\n",
      "Porcentaje de hit: 40.0%, porcentaje miss: 60.0%, total de accesos: 10\n"
     ]
    }
   ],
   "source": [
    "lista_n = [5000, 220, 457, 12, 323, 440, 323, 440, 220, 5000]\n",
    "\n",
    "for num in lista_n:\n",
    "    inicio = time.perf_counter()\n",
    "    resultado = expmapasocon(num)\n",
    "    fin = time.perf_counter()\n",
    "    print(f\"El tiempo de ejecucion para exp de {num} es {fin - inicio}\")\n",
    "\n",
    "porcentaje_hit = (float(hit) / float(total)) * 100\n",
    "porcentaje_miss = (float(miss) / float(total)) * 100\n",
    "\n",
    "print(f\"Porcentaje de hit: {porcentaje_hit}%, porcentaje miss: {porcentaje_miss}%, total de accesos: {total}\")"
   ]
  }
 ],
 "metadata": {
  "kernelspec": {
   "display_name": "Python 3 (ipykernel)",
   "language": "python",
   "name": "python3"
  },
  "language_info": {
   "codemirror_mode": {
    "name": "ipython",
    "version": 3
   },
   "file_extension": ".py",
   "mimetype": "text/x-python",
   "name": "python",
   "nbconvert_exporter": "python",
   "pygments_lexer": "ipython3",
   "version": "3.8.10"
  }
 },
 "nbformat": 4,
 "nbformat_minor": 5
}
