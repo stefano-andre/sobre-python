{
 "cells": [
  {
   "cell_type": "markdown",
   "id": "ad13791d",
   "metadata": {},
   "source": [
    "# Módulos del sistema"
   ]
  },
  {
   "cell_type": "markdown",
   "id": "ef958965",
   "metadata": {},
   "source": [
    "En estos apuntes se mostrarán usos básicos de los módulos que permiten interactuar con el sistema operativo."
   ]
  },
  {
   "cell_type": "markdown",
   "id": "6bc52968",
   "metadata": {},
   "source": [
    "## Módulo `os`"
   ]
  },
  {
   "cell_type": "code",
   "execution_count": 1,
   "id": "93de77de",
   "metadata": {},
   "outputs": [],
   "source": [
    "import os"
   ]
  },
  {
   "cell_type": "markdown",
   "id": "c28a71f3",
   "metadata": {},
   "source": [
    "Sistema operativo"
   ]
  },
  {
   "cell_type": "code",
   "execution_count": 2,
   "id": "8ea2894d",
   "metadata": {},
   "outputs": [
    {
     "data": {
      "text/plain": [
       "'posix'"
      ]
     },
     "execution_count": 2,
     "metadata": {},
     "output_type": "execute_result"
    }
   ],
   "source": [
    "os.name"
   ]
  },
  {
   "cell_type": "markdown",
   "id": "609f6e4f",
   "metadata": {},
   "source": [
    "Para datos más específicos como nombre del sistema operativo o del ordenador"
   ]
  },
  {
   "cell_type": "code",
   "execution_count": 3,
   "id": "dbe0e987",
   "metadata": {},
   "outputs": [
    {
     "data": {
      "text/plain": [
       "posix.uname_result(sysname='Linux', nodename='stefanos-VirtualBox', release='5.11.0-27-generic', version='#29~20.04.1-Ubuntu SMP Wed Aug 11 15:58:17 UTC 2021', machine='x86_64')"
      ]
     },
     "execution_count": 3,
     "metadata": {},
     "output_type": "execute_result"
    }
   ],
   "source": [
    "os.uname()"
   ]
  },
  {
   "cell_type": "markdown",
   "id": "fbf33d61",
   "metadata": {},
   "source": [
    "Cantidad de cpus disponibles"
   ]
  },
  {
   "cell_type": "code",
   "execution_count": 4,
   "id": "563d9b2f",
   "metadata": {},
   "outputs": [
    {
     "data": {
      "text/plain": [
       "4"
      ]
     },
     "execution_count": 4,
     "metadata": {},
     "output_type": "execute_result"
    }
   ],
   "source": [
    "os.cpu_count()"
   ]
  },
  {
   "cell_type": "markdown",
   "id": "ac18853e",
   "metadata": {},
   "source": [
    "Para mostrar el directorio de trabajo"
   ]
  },
  {
   "cell_type": "code",
   "execution_count": 5,
   "id": "465c3cb1",
   "metadata": {},
   "outputs": [
    {
     "data": {
      "text/plain": [
       "'/home/stefanos/Documents/sobre-python'"
      ]
     },
     "execution_count": 5,
     "metadata": {},
     "output_type": "execute_result"
    }
   ],
   "source": [
    "os.getcwd()"
   ]
  },
  {
   "cell_type": "markdown",
   "id": "17d68505",
   "metadata": {},
   "source": [
    "Este valor se puede asignar a una variable para un uso posterior"
   ]
  },
  {
   "cell_type": "code",
   "execution_count": 6,
   "id": "6dfa540f",
   "metadata": {},
   "outputs": [],
   "source": [
    "curdir = os.getcwd()"
   ]
  },
  {
   "cell_type": "markdown",
   "id": "8b4ffb2b",
   "metadata": {},
   "source": [
    "Para moverse del directorio actual a un nivel anterior"
   ]
  },
  {
   "cell_type": "code",
   "execution_count": 7,
   "id": "382360a6",
   "metadata": {},
   "outputs": [],
   "source": [
    "os.chdir('..')"
   ]
  },
  {
   "cell_type": "markdown",
   "id": "46758879",
   "metadata": {},
   "source": [
    "Para ver la nueva ubicación"
   ]
  },
  {
   "cell_type": "code",
   "execution_count": 8,
   "id": "210b43d7",
   "metadata": {},
   "outputs": [
    {
     "data": {
      "text/plain": [
       "'/home/stefanos/Documents'"
      ]
     },
     "execution_count": 8,
     "metadata": {},
     "output_type": "execute_result"
    }
   ],
   "source": [
    "os.getcwd()"
   ]
  },
  {
   "cell_type": "markdown",
   "id": "81263577",
   "metadata": {},
   "source": [
    "Con la variable salvada se puede volver al directorio original"
   ]
  },
  {
   "cell_type": "code",
   "execution_count": 9,
   "id": "57e9df2a",
   "metadata": {},
   "outputs": [],
   "source": [
    "os.chdir(curdir)"
   ]
  },
  {
   "cell_type": "code",
   "execution_count": 10,
   "id": "6b0745ba",
   "metadata": {},
   "outputs": [
    {
     "data": {
      "text/plain": [
       "'/home/stefanos/Documents/sobre-python'"
      ]
     },
     "execution_count": 10,
     "metadata": {},
     "output_type": "execute_result"
    }
   ],
   "source": [
    "os.getcwd()"
   ]
  },
  {
   "cell_type": "markdown",
   "id": "7555083d",
   "metadata": {},
   "source": [
    "Para crear un directorio"
   ]
  },
  {
   "cell_type": "code",
   "execution_count": 11,
   "id": "b4443dec",
   "metadata": {},
   "outputs": [],
   "source": [
    "os.mkdir('DirectorioCreado')"
   ]
  },
  {
   "cell_type": "markdown",
   "id": "436df17c",
   "metadata": {},
   "source": [
    "También se pueden indicar los permisos que se quieren dar al directorio"
   ]
  },
  {
   "cell_type": "code",
   "execution_count": 12,
   "id": "e8491020",
   "metadata": {},
   "outputs": [],
   "source": [
    "os.mkdir('DirectorioCreadoConPermisos',0o770)"
   ]
  },
  {
   "cell_type": "markdown",
   "id": "b081bd76",
   "metadata": {},
   "source": [
    "Para ver los permisos"
   ]
  },
  {
   "cell_type": "code",
   "execution_count": 13,
   "id": "8d907b08",
   "metadata": {},
   "outputs": [
    {
     "data": {
      "text/plain": [
       "'0o770'"
      ]
     },
     "execution_count": 13,
     "metadata": {},
     "output_type": "execute_result"
    }
   ],
   "source": [
    "status = os.stat('DirectorioCreadoConPermisos')\n",
    "oct(status.st_mode & 0o777)"
   ]
  },
  {
   "cell_type": "markdown",
   "id": "ef78a7c8",
   "metadata": {},
   "source": [
    "Para saber si un directorio existe"
   ]
  },
  {
   "cell_type": "code",
   "execution_count": 14,
   "id": "c3b655ee",
   "metadata": {},
   "outputs": [
    {
     "data": {
      "text/plain": [
       "True"
      ]
     },
     "execution_count": 14,
     "metadata": {},
     "output_type": "execute_result"
    }
   ],
   "source": [
    "os.path.exists('DirectorioCreado')"
   ]
  },
  {
   "cell_type": "code",
   "execution_count": 15,
   "id": "82527f4e",
   "metadata": {},
   "outputs": [
    {
     "data": {
      "text/plain": [
       "True"
      ]
     },
     "execution_count": 15,
     "metadata": {},
     "output_type": "execute_result"
    }
   ],
   "source": [
    "os.path.exists('DirectorioCreadoConPermisos')"
   ]
  },
  {
   "cell_type": "markdown",
   "id": "29ff400b",
   "metadata": {},
   "source": [
    "Para eliminar un directorio sin archivos en su interior"
   ]
  },
  {
   "cell_type": "code",
   "execution_count": 16,
   "id": "93946e04",
   "metadata": {},
   "outputs": [],
   "source": [
    "os.rmdir('DirectorioCreado')"
   ]
  },
  {
   "cell_type": "code",
   "execution_count": 17,
   "id": "181fce8c",
   "metadata": {},
   "outputs": [],
   "source": [
    "os.rmdir('DirectorioCreadoConPermisos')"
   ]
  },
  {
   "cell_type": "markdown",
   "id": "3321a45b",
   "metadata": {},
   "source": [
    "Para concatenar elementos y formar una ruta"
   ]
  },
  {
   "cell_type": "code",
   "execution_count": 18,
   "id": "e754ed2a",
   "metadata": {},
   "outputs": [
    {
     "data": {
      "text/plain": [
       "'/home/stefanos/Documents/sobre-python/Plop'"
      ]
     },
     "execution_count": 18,
     "metadata": {},
     "output_type": "execute_result"
    }
   ],
   "source": [
    "os.path.join(os.getcwd(),'Plop')"
   ]
  },
  {
   "cell_type": "markdown",
   "id": "10f5eb16",
   "metadata": {},
   "source": [
    "Para separar el nombre del directorio de trabajo del resto de la ruta"
   ]
  },
  {
   "cell_type": "code",
   "execution_count": 19,
   "id": "d55578ef",
   "metadata": {},
   "outputs": [
    {
     "data": {
      "text/plain": [
       "('/home/stefanos/Documents', 'sobre-python')"
      ]
     },
     "execution_count": 19,
     "metadata": {},
     "output_type": "execute_result"
    }
   ],
   "source": [
    "os.path.split(os.getcwd())"
   ]
  },
  {
   "cell_type": "markdown",
   "id": "9b4d84fb",
   "metadata": {},
   "source": [
    "Para crear directorios anidados"
   ]
  },
  {
   "cell_type": "code",
   "execution_count": 20,
   "id": "795e8d52",
   "metadata": {},
   "outputs": [],
   "source": [
    "os.makedirs('DirectorioCreado/DirectorioAnidadoL1/DirectorioAnidadoL2')"
   ]
  },
  {
   "cell_type": "markdown",
   "id": "bb0e018c",
   "metadata": {},
   "source": [
    "Para ver la estructura de arbol de un directorio"
   ]
  },
  {
   "cell_type": "code",
   "execution_count": 21,
   "id": "b01719c0",
   "metadata": {},
   "outputs": [
    {
     "name": "stdout",
     "output_type": "stream",
     "text": [
      "/home/stefanos/Documents/sobre-python/DirectorioCreado/DirectorioAnidadoL1/DirectorioAnidadoL2 [] []\n",
      "/home/stefanos/Documents/sobre-python/DirectorioCreado/DirectorioAnidadoL1 ['DirectorioAnidadoL2'] []\n",
      "/home/stefanos/Documents/sobre-python/DirectorioCreado ['DirectorioAnidadoL1'] []\n"
     ]
    }
   ],
   "source": [
    "for root, dirs, files in os.walk(os.path.join(curdir,'DirectorioCreado'), topdown=False):\n",
    "    print(root, dirs, files)"
   ]
  },
  {
   "cell_type": "markdown",
   "id": "303f5cdd",
   "metadata": {},
   "source": [
    "Para mostrar los archivos del directorio actual"
   ]
  },
  {
   "cell_type": "code",
   "execution_count": 22,
   "id": "f18fa262",
   "metadata": {},
   "outputs": [
    {
     "data": {
      "text/plain": [
       "['python-os-sys.ipynb',\n",
       " 'perfil-pthreads.ipynb',\n",
       " 'Pipfile',\n",
       " '.ipynb_checkpoints',\n",
       " 'Pipfile.lock',\n",
       " '.gitignore',\n",
       " 'efectos-localidad-matriz-matriz.ipynb',\n",
       " 'python-general.ipynb',\n",
       " 'zoo.csv',\n",
       " 'README.md',\n",
       " 'potencias-exponente-entero.ipynb',\n",
       " 'escapar.py',\n",
       " 'algoritmos-por-bloques.ipynb',\n",
       " 'utilities.py',\n",
       " 'python-timing.ipynb',\n",
       " 'DirectorioCreado',\n",
       " 'LICENSE',\n",
       " '.git',\n",
       " 'matplotlib-general.ipynb',\n",
       " 'pandas-general.ipynb',\n",
       " 'euler-nbprob.ipynb',\n",
       " 'gcc-optis.ipynb',\n",
       " 'factorial.ipynb',\n",
       " 'ctypes-structure.ipynb',\n",
       " 'archivo.txt',\n",
       " 'efectos-localidad.ipynb',\n",
       " 'perfil-mpi.ipynb',\n",
       " 'python-multiprocessing.ipynb',\n",
       " 'numpy-general.ipynb',\n",
       " 'python-ctypes.ipynb']"
      ]
     },
     "execution_count": 22,
     "metadata": {},
     "output_type": "execute_result"
    }
   ],
   "source": [
    "os.listdir()"
   ]
  },
  {
   "cell_type": "markdown",
   "id": "f6bfe5ca",
   "metadata": {},
   "source": [
    "Para mostrar los archivos del directorio `home`"
   ]
  },
  {
   "cell_type": "code",
   "execution_count": 23,
   "id": "7b12990a",
   "metadata": {},
   "outputs": [
    {
     "data": {
      "text/plain": [
       "['stefanos']"
      ]
     },
     "execution_count": 23,
     "metadata": {},
     "output_type": "execute_result"
    }
   ],
   "source": [
    "os.listdir('/home')"
   ]
  },
  {
   "cell_type": "markdown",
   "id": "7b0e2166",
   "metadata": {},
   "source": [
    "Para mostrar los archivos del directorio `DirectorioCreado`"
   ]
  },
  {
   "cell_type": "code",
   "execution_count": 24,
   "id": "ed43bacb",
   "metadata": {},
   "outputs": [
    {
     "data": {
      "text/plain": [
       "['DirectorioAnidadoL1']"
      ]
     },
     "execution_count": 24,
     "metadata": {},
     "output_type": "execute_result"
    }
   ],
   "source": [
    "os.listdir('./DirectorioCreado')"
   ]
  },
  {
   "cell_type": "markdown",
   "id": "89545a04",
   "metadata": {},
   "source": [
    "Para mostrar los archivos del directorio `DirectorioAnidadoL1`"
   ]
  },
  {
   "cell_type": "code",
   "execution_count": 25,
   "id": "e33fd7fd",
   "metadata": {},
   "outputs": [
    {
     "data": {
      "text/plain": [
       "['DirectorioAnidadoL2']"
      ]
     },
     "execution_count": 25,
     "metadata": {},
     "output_type": "execute_result"
    }
   ],
   "source": [
    "os.listdir('./DirectorioCreado/DirectorioAnidadoL1')"
   ]
  },
  {
   "cell_type": "markdown",
   "id": "e36fb58e",
   "metadata": {},
   "source": [
    "Para eliminar un directorio con archivos en su interior, primero eliminas los archivos en el interior"
   ]
  },
  {
   "cell_type": "code",
   "execution_count": 26,
   "id": "37f67ebf",
   "metadata": {},
   "outputs": [],
   "source": [
    "for root, dirs, files in os.walk(os.path.join(curdir,'DirectorioCreado'), topdown=False):\n",
    "    for name in files:\n",
    "        os.remove(os.path.join(root, name))\n",
    "    for name in dirs:\n",
    "        os.rmdir(os.path.join(root, name))"
   ]
  },
  {
   "cell_type": "markdown",
   "id": "b1428556",
   "metadata": {},
   "source": [
    "Luego eliminas el directorio"
   ]
  },
  {
   "cell_type": "code",
   "execution_count": 27,
   "id": "3e8b8525",
   "metadata": {},
   "outputs": [],
   "source": [
    "os.rmdir('DirectorioCreado')"
   ]
  },
  {
   "cell_type": "markdown",
   "id": "65a659fd",
   "metadata": {},
   "source": [
    "Validar que ya no existe"
   ]
  },
  {
   "cell_type": "code",
   "execution_count": 28,
   "id": "83978b7a",
   "metadata": {},
   "outputs": [
    {
     "data": {
      "text/plain": [
       "False"
      ]
     },
     "execution_count": 28,
     "metadata": {},
     "output_type": "execute_result"
    }
   ],
   "source": [
    "os.path.exists('DirectorioCreado')"
   ]
  },
  {
   "cell_type": "markdown",
   "id": "2f64939f",
   "metadata": {},
   "source": [
    "Crear un archivo de prueba para mostrar como cambiar permisos"
   ]
  },
  {
   "cell_type": "code",
   "execution_count": 29,
   "id": "38f1eaa2",
   "metadata": {},
   "outputs": [],
   "source": [
    "! touch archivo-prueba.txt"
   ]
  },
  {
   "cell_type": "markdown",
   "id": "6ecec71e",
   "metadata": {},
   "source": [
    "Cambiar permisos del archivo"
   ]
  },
  {
   "cell_type": "code",
   "execution_count": 30,
   "id": "f62be1b7",
   "metadata": {},
   "outputs": [],
   "source": [
    "os.chmod('archivo-prueba.txt', 0o777)"
   ]
  },
  {
   "cell_type": "markdown",
   "id": "bc66e064",
   "metadata": {},
   "source": [
    "Ver los nuevos permisos"
   ]
  },
  {
   "cell_type": "code",
   "execution_count": 31,
   "id": "6e1976eb",
   "metadata": {},
   "outputs": [
    {
     "data": {
      "text/plain": [
       "'0o777'"
      ]
     },
     "execution_count": 31,
     "metadata": {},
     "output_type": "execute_result"
    }
   ],
   "source": [
    "status = os.stat('archivo-prueba.txt')\n",
    "oct(status.st_mode & 0o777)"
   ]
  },
  {
   "cell_type": "markdown",
   "id": "77f9eb08",
   "metadata": {},
   "source": [
    "Borrar el archivo de prueba"
   ]
  },
  {
   "cell_type": "code",
   "execution_count": 32,
   "id": "6826043b",
   "metadata": {},
   "outputs": [],
   "source": [
    "os.remove('archivo-prueba.txt')"
   ]
  },
  {
   "cell_type": "code",
   "execution_count": 33,
   "id": "71b8e8b2",
   "metadata": {},
   "outputs": [
    {
     "data": {
      "text/plain": [
       "False"
      ]
     },
     "execution_count": 33,
     "metadata": {},
     "output_type": "execute_result"
    }
   ],
   "source": [
    "os.path.exists('archivo-prueba.txt')"
   ]
  },
  {
   "cell_type": "markdown",
   "id": "6504267b",
   "metadata": {},
   "source": [
    "Crear un archivo de prueba"
   ]
  },
  {
   "cell_type": "code",
   "execution_count": 34,
   "id": "ebcb4347",
   "metadata": {},
   "outputs": [],
   "source": [
    "! touch prueba.txt"
   ]
  },
  {
   "cell_type": "markdown",
   "id": "adfe8ba8",
   "metadata": {},
   "source": [
    "Ver la lista de archivos"
   ]
  },
  {
   "cell_type": "code",
   "execution_count": 35,
   "id": "c8717cd4",
   "metadata": {},
   "outputs": [
    {
     "data": {
      "text/plain": [
       "True"
      ]
     },
     "execution_count": 35,
     "metadata": {},
     "output_type": "execute_result"
    }
   ],
   "source": [
    "os.path.exists('prueba.txt')"
   ]
  },
  {
   "cell_type": "code",
   "execution_count": 36,
   "id": "f02ecc1c",
   "metadata": {},
   "outputs": [],
   "source": [
    "os.rename('prueba.txt', 'meh.txt')"
   ]
  },
  {
   "cell_type": "markdown",
   "id": "26c05268",
   "metadata": {},
   "source": [
    "Validar que el archivo con nombre cambiado existe"
   ]
  },
  {
   "cell_type": "code",
   "execution_count": 37,
   "id": "843aa529",
   "metadata": {},
   "outputs": [
    {
     "data": {
      "text/plain": [
       "True"
      ]
     },
     "execution_count": 37,
     "metadata": {},
     "output_type": "execute_result"
    }
   ],
   "source": [
    "os.path.exists('meh.txt')"
   ]
  },
  {
   "cell_type": "markdown",
   "id": "ebb3de89",
   "metadata": {},
   "source": [
    "Eliminar un archivo y volver a ver los archivos del directorio"
   ]
  },
  {
   "cell_type": "code",
   "execution_count": 38,
   "id": "932d397c",
   "metadata": {},
   "outputs": [],
   "source": [
    "os.remove('meh.txt')"
   ]
  },
  {
   "cell_type": "markdown",
   "id": "f416239d",
   "metadata": {},
   "source": [
    "Variables de entorno"
   ]
  },
  {
   "cell_type": "code",
   "execution_count": 39,
   "id": "56bb4544",
   "metadata": {},
   "outputs": [
    {
     "name": "stdout",
     "output_type": "stream",
     "text": [
      "SHELL\n",
      "COLORTERM\n",
      "PYTHONUNBUFFERED\n",
      "TERM_PROGRAM_VERSION\n",
      "PIPENV_ACTIVE\n",
      "LC_ADDRESS\n",
      "LC_NAME\n",
      "LC_MONETARY\n",
      "PWD\n",
      "LOGNAME\n",
      "XDG_SESSION_TYPE\n",
      "VSCODE_GIT_ASKPASS_NODE\n",
      "MOTD_SHOWN\n",
      "PIP_PYTHON_PATH\n",
      "HOME\n",
      "LANG\n",
      "LC_PAPER\n",
      "LS_COLORS\n",
      "VIRTUAL_ENV\n",
      "GIT_ASKPASS\n",
      "SSH_CONNECTION\n",
      "VSCODE_GIT_ASKPASS_EXTRA_ARGS\n",
      "LESSCLOSE\n",
      "XDG_SESSION_CLASS\n",
      "LC_IDENTIFICATION\n",
      "TERM\n",
      "LESSOPEN\n",
      "USER\n",
      "VSCODE_GIT_IPC_HANDLE\n",
      "SHLVL\n",
      "LC_TELEPHONE\n",
      "LC_MEASUREMENT\n",
      "XDG_SESSION_ID\n",
      "PYTHONDONTWRITEBYTECODE\n",
      "XDG_RUNTIME_DIR\n",
      "PS1\n",
      "SSH_CLIENT\n",
      "LC_TIME\n",
      "VSCODE_GIT_ASKPASS_MAIN\n",
      "XDG_DATA_DIRS\n",
      "BROWSER\n",
      "PATH\n",
      "DBUS_SESSION_BUS_ADDRESS\n",
      "LC_NUMERIC\n",
      "TERM_PROGRAM\n",
      "VSCODE_IPC_HOOK_CLI\n",
      "_\n",
      "JPY_PARENT_PID\n",
      "CLICOLOR\n",
      "PAGER\n",
      "GIT_PAGER\n",
      "MPLBACKEND\n"
     ]
    }
   ],
   "source": [
    "for envar in os.environ:\n",
    "    print(envar)"
   ]
  },
  {
   "cell_type": "markdown",
   "id": "2a6954f6",
   "metadata": {},
   "source": [
    "El `shell` que se usa"
   ]
  },
  {
   "cell_type": "code",
   "execution_count": 40,
   "id": "e924306a",
   "metadata": {},
   "outputs": [
    {
     "data": {
      "text/plain": [
       "'/bin/bash'"
      ]
     },
     "execution_count": 40,
     "metadata": {},
     "output_type": "execute_result"
    }
   ],
   "source": [
    "os.environ['SHELL'] "
   ]
  },
  {
   "cell_type": "markdown",
   "id": "9618873b",
   "metadata": {},
   "source": [
    "La ruta `home`"
   ]
  },
  {
   "cell_type": "code",
   "execution_count": 41,
   "id": "5ef331ad",
   "metadata": {},
   "outputs": [
    {
     "data": {
      "text/plain": [
       "'/home/stefanos'"
      ]
     },
     "execution_count": 41,
     "metadata": {},
     "output_type": "execute_result"
    }
   ],
   "source": [
    "os.environ['HOME'] "
   ]
  },
  {
   "cell_type": "markdown",
   "id": "1e02fa80",
   "metadata": {},
   "source": [
    "Ruta absoluta del directorio actual"
   ]
  },
  {
   "cell_type": "code",
   "execution_count": 42,
   "id": "18572033",
   "metadata": {},
   "outputs": [
    {
     "data": {
      "text/plain": [
       "'/home/stefanos/Documents/sobre-python'"
      ]
     },
     "execution_count": 42,
     "metadata": {},
     "output_type": "execute_result"
    }
   ],
   "source": [
    "os.path.abspath('.')"
   ]
  },
  {
   "cell_type": "markdown",
   "id": "85203276",
   "metadata": {},
   "source": [
    "Ruta absoluta del directorio `Music`"
   ]
  },
  {
   "cell_type": "code",
   "execution_count": 43,
   "id": "26096b4f",
   "metadata": {},
   "outputs": [
    {
     "data": {
      "text/plain": [
       "'/home/stefanos/Music'"
      ]
     },
     "execution_count": 43,
     "metadata": {},
     "output_type": "execute_result"
    }
   ],
   "source": [
    "os.path.abspath('../../Music')"
   ]
  },
  {
   "cell_type": "markdown",
   "id": "8b6766fa",
   "metadata": {},
   "source": [
    "Para saber si una ruta es un archivo"
   ]
  },
  {
   "cell_type": "code",
   "execution_count": 44,
   "id": "3d6391b7",
   "metadata": {},
   "outputs": [
    {
     "data": {
      "text/plain": [
       "False"
      ]
     },
     "execution_count": 44,
     "metadata": {},
     "output_type": "execute_result"
    }
   ],
   "source": [
    "os.path.isfile('../../Music')"
   ]
  },
  {
   "cell_type": "markdown",
   "id": "fc997a41",
   "metadata": {},
   "source": [
    "Para saber si una ruta es un directorio"
   ]
  },
  {
   "cell_type": "code",
   "execution_count": 45,
   "id": "718792c7",
   "metadata": {},
   "outputs": [
    {
     "data": {
      "text/plain": [
       "True"
      ]
     },
     "execution_count": 45,
     "metadata": {},
     "output_type": "execute_result"
    }
   ],
   "source": [
    "os.path.isdir('../../Music')"
   ]
  },
  {
   "cell_type": "markdown",
   "id": "cc0851bf",
   "metadata": {},
   "source": [
    "Para ejecutar comandos del sistema operativo, en este ejemplo, se crea un archivo de texto de nombre **cheere** redireccionando la salida del comando `echo`"
   ]
  },
  {
   "cell_type": "code",
   "execution_count": 46,
   "id": "fd62751d",
   "metadata": {},
   "outputs": [
    {
     "data": {
      "text/plain": [
       "0"
      ]
     },
     "execution_count": 46,
     "metadata": {},
     "output_type": "execute_result"
    }
   ],
   "source": [
    "os.system('echo \"Python es cheere\" > cheere.txt')"
   ]
  },
  {
   "cell_type": "markdown",
   "id": "bca299fc",
   "metadata": {},
   "source": [
    "Validar que el archivo existe"
   ]
  },
  {
   "cell_type": "code",
   "execution_count": 47,
   "id": "44042942",
   "metadata": {},
   "outputs": [
    {
     "data": {
      "text/plain": [
       "True"
      ]
     },
     "execution_count": 47,
     "metadata": {},
     "output_type": "execute_result"
    }
   ],
   "source": [
    "os.path.exists('cheere.txt')"
   ]
  },
  {
   "cell_type": "markdown",
   "id": "caf11ef3",
   "metadata": {},
   "source": [
    "Ver el contenido del archivo con el comando `cat`"
   ]
  },
  {
   "cell_type": "code",
   "execution_count": 48,
   "id": "b5d6fb52",
   "metadata": {},
   "outputs": [
    {
     "name": "stdout",
     "output_type": "stream",
     "text": [
      "Python es cheere\n"
     ]
    },
    {
     "data": {
      "text/plain": [
       "0"
      ]
     },
     "execution_count": 48,
     "metadata": {},
     "output_type": "execute_result"
    }
   ],
   "source": [
    "os.system('cat cheere.txt')"
   ]
  },
  {
   "cell_type": "markdown",
   "id": "bff2fcd0",
   "metadata": {},
   "source": [
    "Eliminar el archivo porque no interesa"
   ]
  },
  {
   "cell_type": "code",
   "execution_count": 49,
   "id": "4465ae16",
   "metadata": {},
   "outputs": [],
   "source": [
    "os.remove('cheere.txt')"
   ]
  },
  {
   "cell_type": "markdown",
   "id": "a6d3d18b",
   "metadata": {},
   "source": [
    "## Módulo `sys`"
   ]
  },
  {
   "cell_type": "code",
   "execution_count": 50,
   "id": "2528afe9",
   "metadata": {},
   "outputs": [],
   "source": [
    "import sys"
   ]
  },
  {
   "cell_type": "markdown",
   "id": "e81eda59",
   "metadata": {},
   "source": [
    "Plataforma en uso"
   ]
  },
  {
   "cell_type": "code",
   "execution_count": 51,
   "id": "ab5145c5",
   "metadata": {},
   "outputs": [
    {
     "data": {
      "text/plain": [
       "'linux'"
      ]
     },
     "execution_count": 51,
     "metadata": {},
     "output_type": "execute_result"
    }
   ],
   "source": [
    "sys.platform"
   ]
  },
  {
   "cell_type": "markdown",
   "id": "f92d9700",
   "metadata": {},
   "source": [
    "Versión de Python en uso"
   ]
  },
  {
   "cell_type": "code",
   "execution_count": 52,
   "id": "b3a64e9d",
   "metadata": {},
   "outputs": [
    {
     "data": {
      "text/plain": [
       "'3.8.10 (default, Jun  2 2021, 10:49:15) \\n[GCC 9.4.0]'"
      ]
     },
     "execution_count": 52,
     "metadata": {},
     "output_type": "execute_result"
    }
   ],
   "source": [
    "sys.version"
   ]
  },
  {
   "cell_type": "markdown",
   "id": "faefff1a",
   "metadata": {},
   "source": [
    "Ubicación de las dependencias de Python"
   ]
  },
  {
   "cell_type": "code",
   "execution_count": 53,
   "id": "2c796238",
   "metadata": {},
   "outputs": [
    {
     "data": {
      "text/plain": [
       "['/home/stefanos/Documents/sobre-python',\n",
       " '/usr/lib/python38.zip',\n",
       " '/usr/lib/python3.8',\n",
       " '/usr/lib/python3.8/lib-dynload',\n",
       " '',\n",
       " '/home/stefanos/.local/share/virtualenvs/sobre-python-6-bDY5UM/lib/python3.8/site-packages',\n",
       " '/home/stefanos/.local/share/virtualenvs/sobre-python-6-bDY5UM/lib/python3.8/site-packages/IPython/extensions',\n",
       " '/home/stefanos/.ipython']"
      ]
     },
     "execution_count": 53,
     "metadata": {},
     "output_type": "execute_result"
    }
   ],
   "source": [
    "sys.path"
   ]
  },
  {
   "cell_type": "markdown",
   "id": "00eb90d7",
   "metadata": {},
   "source": [
    "Ruta absoluta del ejecutable que hace de intérprete de Python en uso"
   ]
  },
  {
   "cell_type": "code",
   "execution_count": 54,
   "id": "66573363",
   "metadata": {},
   "outputs": [
    {
     "data": {
      "text/plain": [
       "'/home/stefanos/.local/share/virtualenvs/sobre-python-6-bDY5UM/bin/python'"
      ]
     },
     "execution_count": 54,
     "metadata": {},
     "output_type": "execute_result"
    }
   ],
   "source": [
    "sys.executable"
   ]
  },
  {
   "cell_type": "markdown",
   "id": "df01cb1f",
   "metadata": {},
   "source": [
    "Pasar argumentos por línea de comandos a un _script_ de Python"
   ]
  },
  {
   "cell_type": "code",
   "execution_count": 55,
   "id": "26e20d73",
   "metadata": {},
   "outputs": [
    {
     "name": "stdout",
     "output_type": "stream",
     "text": [
      "Writing cmdargs.py\n"
     ]
    }
   ],
   "source": [
    "%%file cmdargs.py\n",
    "\n",
    "# script para imprimir los argumentos pasados por linea de comandos\n",
    "import sys\n",
    "\n",
    "# forma 0\n",
    "print('argumento 0 = ', sys.argv[0])\n",
    "print('argumento 1 = ', sys.argv[1])\n",
    "print('argumento 2 = ', sys.argv[2])\n",
    "print('argumento 3 = ', sys.argv[3])\n",
    "\n",
    "# forma 1\n",
    "for index, arg in enumerate(sys.argv):\n",
    "    print('argumento', index, '=', arg)\n",
    "\n",
    "# forma 2    \n",
    "for i in range(len(sys.argv)):\n",
    "    print('argumento', i, '=', sys.argv[i])"
   ]
  },
  {
   "cell_type": "code",
   "execution_count": 56,
   "id": "a01c101b",
   "metadata": {},
   "outputs": [
    {
     "name": "stdout",
     "output_type": "stream",
     "text": [
      "argumento 0 =  cmdargs.py\r\n",
      "argumento 1 =  1\r\n",
      "argumento 2 =  2\r\n",
      "argumento 3 =  3\r\n",
      "argumento 0 = cmdargs.py\r\n",
      "argumento 1 = 1\r\n",
      "argumento 2 = 2\r\n",
      "argumento 3 = 3\r\n",
      "argumento 4 = 4\r\n",
      "argumento 0 = cmdargs.py\r\n",
      "argumento 1 = 1\r\n",
      "argumento 2 = 2\r\n",
      "argumento 3 = 3\r\n",
      "argumento 4 = 4\r\n"
     ]
    }
   ],
   "source": [
    "! python3 cmdargs.py 1 2 3 4"
   ]
  },
  {
   "cell_type": "code",
   "execution_count": 57,
   "id": "0da9266f",
   "metadata": {},
   "outputs": [],
   "source": [
    "! rm cmdargs.py"
   ]
  },
  {
   "cell_type": "markdown",
   "id": "5fe17e73",
   "metadata": {},
   "source": [
    "Escapar de la ejecución del _script_ en caso no se cumpla alguna condición"
   ]
  },
  {
   "cell_type": "code",
   "execution_count": 58,
   "id": "2d80891c",
   "metadata": {},
   "outputs": [
    {
     "name": "stdout",
     "output_type": "stream",
     "text": [
      "Overwriting escapar.py\n"
     ]
    }
   ],
   "source": [
    "%%file escapar.py\n",
    "\n",
    "# script que imprime los argumentos de la linea de comandos solo cuando son mas de uno\n",
    "import sys\n",
    "\n",
    "if len(sys.argv) == 1:\n",
    "    print('Mal uso')\n",
    "    print('Ejemplo de uso: python3 %s 1 2 3' % (sys.argv[0]))\n",
    "    sys.exit(1)\n",
    "    \n",
    "for i in range(1,len(sys.argv)):\n",
    "    print(sys.argv[i])  \n"
   ]
  },
  {
   "cell_type": "code",
   "execution_count": 59,
   "id": "45d96f3f",
   "metadata": {},
   "outputs": [
    {
     "name": "stdout",
     "output_type": "stream",
     "text": [
      "Mal uso\r\n",
      "Ejemplo de uso: python3 escapar.py 1 2 3\r\n"
     ]
    }
   ],
   "source": [
    "! python3 escapar.py"
   ]
  },
  {
   "cell_type": "code",
   "execution_count": 60,
   "id": "ef176d6a",
   "metadata": {},
   "outputs": [
    {
     "name": "stdout",
     "output_type": "stream",
     "text": [
      "1\r\n",
      "2\r\n",
      "3\r\n"
     ]
    }
   ],
   "source": [
    "! python3 escapar.py 1 2 3"
   ]
  },
  {
   "cell_type": "code",
   "execution_count": null,
   "id": "9bced59f",
   "metadata": {},
   "outputs": [],
   "source": [
    "! rm escapar.py"
   ]
  }
 ],
 "metadata": {
  "kernelspec": {
   "display_name": "Python 3 (ipykernel)",
   "language": "python",
   "name": "python3"
  },
  "language_info": {
   "codemirror_mode": {
    "name": "ipython",
    "version": 3
   },
   "file_extension": ".py",
   "mimetype": "text/x-python",
   "name": "python",
   "nbconvert_exporter": "python",
   "pygments_lexer": "ipython3",
   "version": "3.8.10"
  }
 },
 "nbformat": 4,
 "nbformat_minor": 5
}
