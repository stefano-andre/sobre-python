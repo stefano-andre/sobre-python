{
 "cells": [
  {
   "cell_type": "markdown",
   "id": "580b7eba",
   "metadata": {},
   "source": [
    "# Módulos del sistema"
   ]
  },
  {
   "cell_type": "markdown",
   "id": "feeffef5",
   "metadata": {},
   "source": [
    "En estos apuntes se mostrarán usos comunes de los módulos que permiten interactuar con el sistema operativo, para manejo de archivos y administración de procesos."
   ]
  },
  {
   "cell_type": "markdown",
   "id": "8fdc8270",
   "metadata": {},
   "source": [
    "## Módulo `os`"
   ]
  },
  {
   "cell_type": "code",
   "execution_count": 1,
   "id": "92ba5143",
   "metadata": {},
   "outputs": [],
   "source": [
    "import os"
   ]
  },
  {
   "cell_type": "markdown",
   "id": "53770d1a",
   "metadata": {},
   "source": [
    "Sistema operativo"
   ]
  },
  {
   "cell_type": "code",
   "execution_count": 2,
   "id": "885b9520",
   "metadata": {},
   "outputs": [
    {
     "data": {
      "text/plain": [
       "'posix'"
      ]
     },
     "execution_count": 2,
     "metadata": {},
     "output_type": "execute_result"
    }
   ],
   "source": [
    "os.name"
   ]
  },
  {
   "cell_type": "markdown",
   "id": "d489af3b",
   "metadata": {},
   "source": [
    "Para mostrar el directorio de trabajo"
   ]
  },
  {
   "cell_type": "code",
   "execution_count": 3,
   "id": "173dac09",
   "metadata": {},
   "outputs": [
    {
     "data": {
      "text/plain": [
       "'/home/stefanos/Documents/sobre-python'"
      ]
     },
     "execution_count": 3,
     "metadata": {},
     "output_type": "execute_result"
    }
   ],
   "source": [
    "os.getcwd()"
   ]
  },
  {
   "cell_type": "code",
   "execution_count": 4,
   "id": "8526bc98",
   "metadata": {},
   "outputs": [],
   "source": [
    "curdir = os.getcwd()"
   ]
  },
  {
   "cell_type": "markdown",
   "id": "0aa1e4c4",
   "metadata": {},
   "source": [
    "Para moverse del directorio actual a un nivel anterior"
   ]
  },
  {
   "cell_type": "code",
   "execution_count": 5,
   "id": "24a12fcc",
   "metadata": {},
   "outputs": [],
   "source": [
    "os.chdir('..')"
   ]
  },
  {
   "cell_type": "markdown",
   "id": "a9a3ea69",
   "metadata": {},
   "source": [
    "Para ver la nueva ubicación"
   ]
  },
  {
   "cell_type": "code",
   "execution_count": 6,
   "id": "4bcd6976",
   "metadata": {},
   "outputs": [
    {
     "data": {
      "text/plain": [
       "'/home/stefanos/Documents'"
      ]
     },
     "execution_count": 6,
     "metadata": {},
     "output_type": "execute_result"
    }
   ],
   "source": [
    "os.getcwd()"
   ]
  },
  {
   "cell_type": "markdown",
   "id": "7a665467",
   "metadata": {},
   "source": [
    "Mejor hay que volver al directorio original"
   ]
  },
  {
   "cell_type": "code",
   "execution_count": 7,
   "id": "5aea587f",
   "metadata": {},
   "outputs": [],
   "source": [
    "os.chdir(curdir)"
   ]
  },
  {
   "cell_type": "code",
   "execution_count": 8,
   "id": "dcb1abcc",
   "metadata": {},
   "outputs": [
    {
     "data": {
      "text/plain": [
       "'/home/stefanos/Documents/sobre-python'"
      ]
     },
     "execution_count": 8,
     "metadata": {},
     "output_type": "execute_result"
    }
   ],
   "source": [
    "os.getcwd()"
   ]
  },
  {
   "cell_type": "markdown",
   "id": "66be5f4d",
   "metadata": {},
   "source": [
    "Para crear un directorio"
   ]
  },
  {
   "cell_type": "code",
   "execution_count": 9,
   "id": "cb3cb24d",
   "metadata": {},
   "outputs": [],
   "source": [
    "os.mkdir('DirectorioCreado')"
   ]
  },
  {
   "cell_type": "markdown",
   "id": "8734de24",
   "metadata": {},
   "source": [
    "También se pueden indicar los permisos que se quieren dar al directorio"
   ]
  },
  {
   "cell_type": "code",
   "execution_count": 10,
   "id": "87d432bf",
   "metadata": {},
   "outputs": [],
   "source": [
    "os.mkdir('DirectorioCreadoConPermisos',0o770)"
   ]
  },
  {
   "cell_type": "markdown",
   "id": "be8c45bb",
   "metadata": {},
   "source": [
    "Para saber si un directorio existe"
   ]
  },
  {
   "cell_type": "code",
   "execution_count": 11,
   "id": "99f2df4c",
   "metadata": {},
   "outputs": [
    {
     "data": {
      "text/plain": [
       "True"
      ]
     },
     "execution_count": 11,
     "metadata": {},
     "output_type": "execute_result"
    }
   ],
   "source": [
    "os.path.exists('DirectorioCreado')"
   ]
  },
  {
   "cell_type": "code",
   "execution_count": 12,
   "id": "e00e2d47",
   "metadata": {},
   "outputs": [
    {
     "data": {
      "text/plain": [
       "True"
      ]
     },
     "execution_count": 12,
     "metadata": {},
     "output_type": "execute_result"
    }
   ],
   "source": [
    "os.path.exists('DirectorioCreadoConPermisos')"
   ]
  },
  {
   "cell_type": "markdown",
   "id": "39f256e1",
   "metadata": {},
   "source": [
    "Para ver los permisos"
   ]
  },
  {
   "cell_type": "code",
   "execution_count": 13,
   "id": "6f9d0d38",
   "metadata": {},
   "outputs": [
    {
     "data": {
      "text/plain": [
       "'0o770'"
      ]
     },
     "execution_count": 13,
     "metadata": {},
     "output_type": "execute_result"
    }
   ],
   "source": [
    "status = os.stat('DirectorioCreadoConPermisos')\n",
    "oct(status.st_mode & 0o777)"
   ]
  },
  {
   "cell_type": "markdown",
   "id": "d48dedc8",
   "metadata": {},
   "source": [
    "Para eliminar un directorio sin archivos en su interior"
   ]
  },
  {
   "cell_type": "code",
   "execution_count": 14,
   "id": "9085044e",
   "metadata": {},
   "outputs": [],
   "source": [
    "os.rmdir('DirectorioCreado')"
   ]
  },
  {
   "cell_type": "code",
   "execution_count": 15,
   "id": "6726216d",
   "metadata": {},
   "outputs": [],
   "source": [
    "os.rmdir('DirectorioCreadoConPermisos')"
   ]
  },
  {
   "cell_type": "markdown",
   "id": "b98f2a6e",
   "metadata": {},
   "source": [
    "Para crear directorios anidados"
   ]
  },
  {
   "cell_type": "code",
   "execution_count": 16,
   "id": "7fa67af6",
   "metadata": {},
   "outputs": [],
   "source": [
    "os.makedirs('DirectorioCreado/DirectorioAnidadoL1/DirectorioAnidadoL2')"
   ]
  },
  {
   "cell_type": "markdown",
   "id": "00464aba",
   "metadata": {},
   "source": [
    "Para mostrar los archivos del directorio actual"
   ]
  },
  {
   "cell_type": "code",
   "execution_count": 17,
   "id": "5a875ecd",
   "metadata": {},
   "outputs": [
    {
     "data": {
      "text/plain": [
       "['perfil-pthreads.ipynb',\n",
       " 'Pipfile',\n",
       " '.ipynb_checkpoints',\n",
       " 'Pipfile.lock',\n",
       " '.gitignore',\n",
       " 'efectos-localidad-matriz-matriz.ipynb',\n",
       " 'python-general.ipynb',\n",
       " 'zoo.csv',\n",
       " 'README.md',\n",
       " 'potencias-exponente-entero.ipynb',\n",
       " 'algoritmos-por-bloques.ipynb',\n",
       " 'python-os-sys-subprocess.ipynb',\n",
       " 'utilities.py',\n",
       " 'python-timing.ipynb',\n",
       " 'DirectorioCreado',\n",
       " 'LICENSE',\n",
       " '.git',\n",
       " 'matplotlib-general.ipynb',\n",
       " 'pandas-general.ipynb',\n",
       " 'euler-nbprob.ipynb',\n",
       " 'gcc-optis.ipynb',\n",
       " 'factorial.ipynb',\n",
       " 'ctypes-structure.ipynb',\n",
       " 'archivo.txt',\n",
       " 'efectos-localidad.ipynb',\n",
       " 'perfil-mpi.ipynb',\n",
       " 'python-multiprocessing.ipynb',\n",
       " 'numpy-general.ipynb',\n",
       " 'python-ctypes.ipynb']"
      ]
     },
     "execution_count": 17,
     "metadata": {},
     "output_type": "execute_result"
    }
   ],
   "source": [
    "os.listdir()"
   ]
  },
  {
   "cell_type": "markdown",
   "id": "3571034f",
   "metadata": {},
   "source": [
    "Para mostrar los archivos del directorio `home`"
   ]
  },
  {
   "cell_type": "code",
   "execution_count": 18,
   "id": "dfc4b1f9",
   "metadata": {},
   "outputs": [
    {
     "data": {
      "text/plain": [
       "['stefanos']"
      ]
     },
     "execution_count": 18,
     "metadata": {},
     "output_type": "execute_result"
    }
   ],
   "source": [
    "os.listdir('/home')"
   ]
  },
  {
   "cell_type": "markdown",
   "id": "60ab7dcc",
   "metadata": {},
   "source": [
    "Para mostrar los archivos del directorio `DirectorioCreado`"
   ]
  },
  {
   "cell_type": "code",
   "execution_count": 19,
   "id": "579ec290",
   "metadata": {},
   "outputs": [
    {
     "data": {
      "text/plain": [
       "['DirectorioAnidadoL1']"
      ]
     },
     "execution_count": 19,
     "metadata": {},
     "output_type": "execute_result"
    }
   ],
   "source": [
    "os.listdir('./DirectorioCreado')"
   ]
  },
  {
   "cell_type": "markdown",
   "id": "6003c71a",
   "metadata": {},
   "source": [
    "Para mostrar los archivos del directorio `DirectorioAnidadoL1`"
   ]
  },
  {
   "cell_type": "code",
   "execution_count": 20,
   "id": "bd7dca8e",
   "metadata": {},
   "outputs": [
    {
     "data": {
      "text/plain": [
       "['DirectorioAnidadoL2']"
      ]
     },
     "execution_count": 20,
     "metadata": {},
     "output_type": "execute_result"
    }
   ],
   "source": [
    "os.listdir('./DirectorioCreado/DirectorioAnidadoL1')"
   ]
  },
  {
   "cell_type": "markdown",
   "id": "415f3f8a",
   "metadata": {},
   "source": [
    "Para eliminar un directorio con archivos en su interior, primero eliminas los archivos en el interior"
   ]
  },
  {
   "cell_type": "code",
   "execution_count": 21,
   "id": "6b1727f9",
   "metadata": {},
   "outputs": [],
   "source": [
    "for root, dirs, files in os.walk(os.path.join(curdir,'DirectorioCreado'), topdown=False):\n",
    "    for name in files:\n",
    "        os.remove(os.path.join(root, name))\n",
    "    for name in dirs:\n",
    "        os.rmdir(os.path.join(root, name))"
   ]
  },
  {
   "cell_type": "markdown",
   "id": "077937a9",
   "metadata": {},
   "source": [
    "Luego eliminas el directorio"
   ]
  },
  {
   "cell_type": "code",
   "execution_count": 22,
   "id": "e838590d",
   "metadata": {},
   "outputs": [],
   "source": [
    "os.rmdir('DirectorioCreado')"
   ]
  },
  {
   "cell_type": "markdown",
   "id": "6df463af",
   "metadata": {},
   "source": [
    "Validar que ya no existe"
   ]
  },
  {
   "cell_type": "code",
   "execution_count": 23,
   "id": "40aa1a66",
   "metadata": {},
   "outputs": [
    {
     "data": {
      "text/plain": [
       "False"
      ]
     },
     "execution_count": 23,
     "metadata": {},
     "output_type": "execute_result"
    }
   ],
   "source": [
    "os.path.exists('DirectorioCreado')"
   ]
  },
  {
   "cell_type": "markdown",
   "id": "d2ece56e",
   "metadata": {},
   "source": [
    "Crear un archivo de prueba para mostrar como cambiar permisos"
   ]
  },
  {
   "cell_type": "code",
   "execution_count": 24,
   "id": "a6515839",
   "metadata": {},
   "outputs": [],
   "source": [
    "! touch archivo-prueba.txt"
   ]
  },
  {
   "cell_type": "markdown",
   "id": "1666476a",
   "metadata": {},
   "source": [
    "Cambiar permisos del archivo"
   ]
  },
  {
   "cell_type": "code",
   "execution_count": 25,
   "id": "3fd7fabf",
   "metadata": {},
   "outputs": [],
   "source": [
    "os.chmod('archivo-prueba.txt', 0o777)"
   ]
  },
  {
   "cell_type": "markdown",
   "id": "ab142231",
   "metadata": {},
   "source": [
    "Ver los nuevos permisos"
   ]
  },
  {
   "cell_type": "code",
   "execution_count": 26,
   "id": "36802e98",
   "metadata": {},
   "outputs": [
    {
     "data": {
      "text/plain": [
       "'0o777'"
      ]
     },
     "execution_count": 26,
     "metadata": {},
     "output_type": "execute_result"
    }
   ],
   "source": [
    "status = os.stat('archivo-prueba.txt')\n",
    "oct(status.st_mode & 0o777)"
   ]
  },
  {
   "cell_type": "markdown",
   "id": "e55e3c2e",
   "metadata": {},
   "source": [
    "Borrar el archivo de prueba"
   ]
  },
  {
   "cell_type": "code",
   "execution_count": 27,
   "id": "fe590483",
   "metadata": {},
   "outputs": [],
   "source": [
    "os.remove('archivo-prueba.txt')"
   ]
  },
  {
   "cell_type": "code",
   "execution_count": 28,
   "id": "4577a45a",
   "metadata": {},
   "outputs": [
    {
     "data": {
      "text/plain": [
       "False"
      ]
     },
     "execution_count": 28,
     "metadata": {},
     "output_type": "execute_result"
    }
   ],
   "source": [
    "os.path.exists('archivo-prueba.txt')"
   ]
  },
  {
   "cell_type": "markdown",
   "id": "1ecab10b",
   "metadata": {},
   "source": [
    "Crear un archivo de prueba"
   ]
  },
  {
   "cell_type": "code",
   "execution_count": 29,
   "id": "c2a58172",
   "metadata": {},
   "outputs": [],
   "source": [
    "! touch prueba.txt"
   ]
  },
  {
   "cell_type": "markdown",
   "id": "819a636b",
   "metadata": {},
   "source": [
    "Ver la lista de archivos"
   ]
  },
  {
   "cell_type": "code",
   "execution_count": 30,
   "id": "302c5a9c",
   "metadata": {},
   "outputs": [
    {
     "data": {
      "text/plain": [
       "True"
      ]
     },
     "execution_count": 30,
     "metadata": {},
     "output_type": "execute_result"
    }
   ],
   "source": [
    "os.path.exists('prueba.txt')"
   ]
  },
  {
   "cell_type": "code",
   "execution_count": 31,
   "id": "5026d6fc",
   "metadata": {},
   "outputs": [],
   "source": [
    "os.rename('prueba.txt', 'meh.txt')"
   ]
  },
  {
   "cell_type": "markdown",
   "id": "1f2477c5",
   "metadata": {},
   "source": [
    "Validar que el archivo con nombre cambiado existe"
   ]
  },
  {
   "cell_type": "code",
   "execution_count": 32,
   "id": "295d9fa3",
   "metadata": {},
   "outputs": [
    {
     "data": {
      "text/plain": [
       "True"
      ]
     },
     "execution_count": 32,
     "metadata": {},
     "output_type": "execute_result"
    }
   ],
   "source": [
    "os.path.exists('meh.txt')"
   ]
  },
  {
   "cell_type": "markdown",
   "id": "2f34adc6",
   "metadata": {},
   "source": [
    "Eliminar un archivo y volver a ver los archivos del directorio"
   ]
  },
  {
   "cell_type": "code",
   "execution_count": 33,
   "id": "c3c6ee7f",
   "metadata": {},
   "outputs": [],
   "source": [
    "os.remove('meh.txt')"
   ]
  },
  {
   "cell_type": "markdown",
   "id": "b219f74f",
   "metadata": {},
   "source": [
    "Variables de entorno"
   ]
  },
  {
   "cell_type": "code",
   "execution_count": 34,
   "id": "44c3fc3a",
   "metadata": {},
   "outputs": [
    {
     "name": "stdout",
     "output_type": "stream",
     "text": [
      "SHELL\n",
      "COLORTERM\n",
      "PYTHONUNBUFFERED\n",
      "TERM_PROGRAM_VERSION\n",
      "PIPENV_ACTIVE\n",
      "LC_ADDRESS\n",
      "LC_NAME\n",
      "LC_MONETARY\n",
      "PWD\n",
      "LOGNAME\n",
      "XDG_SESSION_TYPE\n",
      "VSCODE_GIT_ASKPASS_NODE\n",
      "MOTD_SHOWN\n",
      "PIP_PYTHON_PATH\n",
      "HOME\n",
      "LANG\n",
      "LC_PAPER\n",
      "LS_COLORS\n",
      "VIRTUAL_ENV\n",
      "GIT_ASKPASS\n",
      "SSH_CONNECTION\n",
      "VSCODE_GIT_ASKPASS_EXTRA_ARGS\n",
      "LESSCLOSE\n",
      "XDG_SESSION_CLASS\n",
      "LC_IDENTIFICATION\n",
      "TERM\n",
      "LESSOPEN\n",
      "USER\n",
      "VSCODE_GIT_IPC_HANDLE\n",
      "SHLVL\n",
      "LC_TELEPHONE\n",
      "LC_MEASUREMENT\n",
      "XDG_SESSION_ID\n",
      "PYTHONDONTWRITEBYTECODE\n",
      "XDG_RUNTIME_DIR\n",
      "PS1\n",
      "SSH_CLIENT\n",
      "LC_TIME\n",
      "VSCODE_GIT_ASKPASS_MAIN\n",
      "XDG_DATA_DIRS\n",
      "BROWSER\n",
      "PATH\n",
      "DBUS_SESSION_BUS_ADDRESS\n",
      "LC_NUMERIC\n",
      "OLDPWD\n",
      "TERM_PROGRAM\n",
      "VSCODE_IPC_HOOK_CLI\n",
      "_\n",
      "JPY_PARENT_PID\n",
      "CLICOLOR\n",
      "PAGER\n",
      "GIT_PAGER\n",
      "MPLBACKEND\n"
     ]
    }
   ],
   "source": [
    "for envar in os.environ:\n",
    "    print(envar)"
   ]
  },
  {
   "cell_type": "markdown",
   "id": "97cb5a48",
   "metadata": {},
   "source": [
    "El `shell` que se usa"
   ]
  },
  {
   "cell_type": "code",
   "execution_count": 35,
   "id": "698f6977",
   "metadata": {},
   "outputs": [
    {
     "data": {
      "text/plain": [
       "'/bin/bash'"
      ]
     },
     "execution_count": 35,
     "metadata": {},
     "output_type": "execute_result"
    }
   ],
   "source": [
    "os.environ['SHELL'] "
   ]
  },
  {
   "cell_type": "markdown",
   "id": "fac23284",
   "metadata": {},
   "source": [
    "La ruta `home`"
   ]
  },
  {
   "cell_type": "code",
   "execution_count": 36,
   "id": "46970965",
   "metadata": {},
   "outputs": [
    {
     "data": {
      "text/plain": [
       "'/home/stefanos'"
      ]
     },
     "execution_count": 36,
     "metadata": {},
     "output_type": "execute_result"
    }
   ],
   "source": [
    "os.environ['HOME'] "
   ]
  },
  {
   "cell_type": "markdown",
   "id": "7481b70a",
   "metadata": {},
   "source": [
    "Ruta absoluta del directorio actual"
   ]
  },
  {
   "cell_type": "code",
   "execution_count": 37,
   "id": "a1e2b08d",
   "metadata": {},
   "outputs": [
    {
     "data": {
      "text/plain": [
       "'/home/stefanos/Documents/sobre-python'"
      ]
     },
     "execution_count": 37,
     "metadata": {},
     "output_type": "execute_result"
    }
   ],
   "source": [
    "os.path.abspath('.')"
   ]
  },
  {
   "cell_type": "markdown",
   "id": "d7506097",
   "metadata": {},
   "source": [
    "Ruta absoluta del directorio `Music`"
   ]
  },
  {
   "cell_type": "code",
   "execution_count": 38,
   "id": "84e1917f",
   "metadata": {},
   "outputs": [
    {
     "data": {
      "text/plain": [
       "'/home/stefanos/Music'"
      ]
     },
     "execution_count": 38,
     "metadata": {},
     "output_type": "execute_result"
    }
   ],
   "source": [
    "os.path.abspath('../../Music')"
   ]
  },
  {
   "cell_type": "markdown",
   "id": "4853bb4a",
   "metadata": {},
   "source": [
    "Para saber si una ruta es un archivo"
   ]
  },
  {
   "cell_type": "code",
   "execution_count": 39,
   "id": "f37e5a27",
   "metadata": {},
   "outputs": [
    {
     "data": {
      "text/plain": [
       "False"
      ]
     },
     "execution_count": 39,
     "metadata": {},
     "output_type": "execute_result"
    }
   ],
   "source": [
    "os.path.isfile('../../Music')"
   ]
  },
  {
   "cell_type": "markdown",
   "id": "fa5cb28d",
   "metadata": {},
   "source": [
    "Para saber si una ruta es un directorio"
   ]
  },
  {
   "cell_type": "code",
   "execution_count": 40,
   "id": "37e18b3f",
   "metadata": {},
   "outputs": [
    {
     "data": {
      "text/plain": [
       "True"
      ]
     },
     "execution_count": 40,
     "metadata": {},
     "output_type": "execute_result"
    }
   ],
   "source": [
    "os.path.isdir('../../Music')"
   ]
  },
  {
   "cell_type": "markdown",
   "id": "00ec4603",
   "metadata": {},
   "source": [
    "## Módulo `sys`"
   ]
  },
  {
   "cell_type": "code",
   "execution_count": 41,
   "id": "951e7593",
   "metadata": {},
   "outputs": [],
   "source": [
    "import sys"
   ]
  },
  {
   "cell_type": "markdown",
   "id": "322c10d6",
   "metadata": {},
   "source": [
    "Plataforma en uso"
   ]
  },
  {
   "cell_type": "code",
   "execution_count": 42,
   "id": "f1f41f0d",
   "metadata": {},
   "outputs": [
    {
     "data": {
      "text/plain": [
       "'linux'"
      ]
     },
     "execution_count": 42,
     "metadata": {},
     "output_type": "execute_result"
    }
   ],
   "source": [
    "sys.platform"
   ]
  },
  {
   "cell_type": "markdown",
   "id": "809809d6",
   "metadata": {},
   "source": [
    "Versión de Python en uso"
   ]
  },
  {
   "cell_type": "code",
   "execution_count": 43,
   "id": "cfe28d62",
   "metadata": {},
   "outputs": [
    {
     "data": {
      "text/plain": [
       "'3.8.10 (default, Jun  2 2021, 10:49:15) \\n[GCC 9.4.0]'"
      ]
     },
     "execution_count": 43,
     "metadata": {},
     "output_type": "execute_result"
    }
   ],
   "source": [
    "sys.version"
   ]
  },
  {
   "cell_type": "markdown",
   "id": "62cf0efe",
   "metadata": {},
   "source": [
    "Ubicación de instalación de Python"
   ]
  },
  {
   "cell_type": "code",
   "execution_count": 44,
   "id": "8a7197f5",
   "metadata": {},
   "outputs": [
    {
     "data": {
      "text/plain": [
       "['/home/stefanos/Documents/sobre-python',\n",
       " '/usr/lib/python38.zip',\n",
       " '/usr/lib/python3.8',\n",
       " '/usr/lib/python3.8/lib-dynload',\n",
       " '',\n",
       " '/home/stefanos/.local/share/virtualenvs/sobre-python-6-bDY5UM/lib/python3.8/site-packages',\n",
       " '/home/stefanos/.local/share/virtualenvs/sobre-python-6-bDY5UM/lib/python3.8/site-packages/IPython/extensions',\n",
       " '/home/stefanos/.ipython']"
      ]
     },
     "execution_count": 44,
     "metadata": {},
     "output_type": "execute_result"
    }
   ],
   "source": [
    "sys.path"
   ]
  },
  {
   "cell_type": "markdown",
   "id": "7dcf705b",
   "metadata": {},
   "source": [
    "Ruta absoluta del ejecutable que hace de intérprete de Python en uso"
   ]
  },
  {
   "cell_type": "code",
   "execution_count": 45,
   "id": "cae7ad03",
   "metadata": {},
   "outputs": [
    {
     "data": {
      "text/plain": [
       "'/home/stefanos/.local/share/virtualenvs/sobre-python-6-bDY5UM/bin/python'"
      ]
     },
     "execution_count": 45,
     "metadata": {},
     "output_type": "execute_result"
    }
   ],
   "source": [
    "sys.executable"
   ]
  },
  {
   "cell_type": "markdown",
   "id": "b25dc805",
   "metadata": {},
   "source": [
    "Pasar argumentos por línea de comandos a un _script_ de Python"
   ]
  },
  {
   "cell_type": "code",
   "execution_count": 46,
   "id": "4800b207",
   "metadata": {},
   "outputs": [
    {
     "name": "stdout",
     "output_type": "stream",
     "text": [
      "Writing cmdargs.py\n"
     ]
    }
   ],
   "source": [
    "%%file cmdargs.py\n",
    "\n",
    "import sys\n",
    "\n",
    "for index, arg in enumerate(sys.argv):\n",
    "    print('argumento', index,'=',arg)"
   ]
  },
  {
   "cell_type": "code",
   "execution_count": 47,
   "id": "f0b95db5",
   "metadata": {},
   "outputs": [
    {
     "name": "stdout",
     "output_type": "stream",
     "text": [
      "argumento 0 = cmdargs.py\r\n",
      "argumento 1 = 1\r\n",
      "argumento 2 = 2\r\n",
      "argumento 3 = 3\r\n",
      "argumento 4 = 4\r\n"
     ]
    }
   ],
   "source": [
    "! python3 cmdargs.py 1 2 3 4"
   ]
  },
  {
   "cell_type": "code",
   "execution_count": 48,
   "id": "683742de",
   "metadata": {},
   "outputs": [],
   "source": [
    "! rm cmdargs.py"
   ]
  }
 ],
 "metadata": {
  "kernelspec": {
   "display_name": "Python 3 (ipykernel)",
   "language": "python",
   "name": "python3"
  },
  "language_info": {
   "codemirror_mode": {
    "name": "ipython",
    "version": 3
   },
   "file_extension": ".py",
   "mimetype": "text/x-python",
   "name": "python",
   "nbconvert_exporter": "python",
   "pygments_lexer": "ipython3",
   "version": "3.8.10"
  }
 },
 "nbformat": 4,
 "nbformat_minor": 5
}
